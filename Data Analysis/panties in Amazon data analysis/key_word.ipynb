{
 "cells": [
  {
   "cell_type": "markdown",
   "metadata": {},
   "source": [
    "# key_word"
   ]
  },
  {
   "cell_type": "code",
   "execution_count": 3,
   "metadata": {},
   "outputs": [],
   "source": [
    "import pandas as pd \n",
    "import numpy as np\n",
    "import matplotlib.pyplot as plt\n",
    "import matplotlib.colors\n",
    "\n",
    "%matplotlib inline"
   ]
  },
  {
   "cell_type": "code",
   "execution_count": 4,
   "metadata": {},
   "outputs": [
    {
     "data": {
      "text/html": [
       "<div>\n",
       "<style scoped>\n",
       "    .dataframe tbody tr th:only-of-type {\n",
       "        vertical-align: middle;\n",
       "    }\n",
       "\n",
       "    .dataframe tbody tr th {\n",
       "        vertical-align: top;\n",
       "    }\n",
       "\n",
       "    .dataframe thead th {\n",
       "        text-align: right;\n",
       "    }\n",
       "</style>\n",
       "<table border=\"1\" class=\"dataframe\">\n",
       "  <thead>\n",
       "    <tr style=\"text-align: right;\">\n",
       "      <th></th>\n",
       "      <th>Unnamed: 0</th>\n",
       "      <th>shop_name</th>\n",
       "      <th>product_title</th>\n",
       "      <th>star</th>\n",
       "      <th>price</th>\n",
       "      <th>review_num</th>\n",
       "      <th>reviews_mention</th>\n",
       "      <th>shop_link</th>\n",
       "      <th>profile_name</th>\n",
       "      <th>profile_star</th>\n",
       "      <th>review_title</th>\n",
       "      <th>review_date</th>\n",
       "      <th>size</th>\n",
       "      <th>color</th>\n",
       "      <th>review_text</th>\n",
       "    </tr>\n",
       "  </thead>\n",
       "  <tbody>\n",
       "    <tr>\n",
       "      <td>0</td>\n",
       "      <td>0</td>\n",
       "      <td>Sofishie</td>\n",
       "      <td>Sofishie Sexy V-Back Criss Cross Panties</td>\n",
       "      <td>4.0 out of 5 stars</td>\n",
       "      <td>$8.99 - $13.99</td>\n",
       "      <td>105</td>\n",
       "      <td>['good quality', 'ordered a small', 'panties',...</td>\n",
       "      <td>https://www.amazon.com/Sofishie/b/ref=w_bl_sl_...</td>\n",
       "      <td>andrew m nash</td>\n",
       "      <td>5.0 out of 5 stars</td>\n",
       "      <td>Love these panties</td>\n",
       "      <td>August 23, 2018</td>\n",
       "      <td>Size: Medium</td>\n",
       "      <td>Color: Green</td>\n",
       "      <td>First off, male user here. I have purchased al...</td>\n",
       "    </tr>\n",
       "    <tr>\n",
       "      <td>1</td>\n",
       "      <td>1</td>\n",
       "      <td>Sofishie</td>\n",
       "      <td>Sofishie Sexy V-Back Criss Cross Panties</td>\n",
       "      <td>4.0 out of 5 stars</td>\n",
       "      <td>$8.99 - $13.99</td>\n",
       "      <td>105</td>\n",
       "      <td>['good quality', 'ordered a small', 'panties',...</td>\n",
       "      <td>https://www.amazon.com/Sofishie/b/ref=w_bl_sl_...</td>\n",
       "      <td>Kato</td>\n",
       "      <td>5.0 out of 5 stars</td>\n",
       "      <td>Provocative Undies</td>\n",
       "      <td>January 11, 2019</td>\n",
       "      <td>Size: Medium</td>\n",
       "      <td>Color: Black</td>\n",
       "      <td>Sexy look, but didn’t notice the brand until s...</td>\n",
       "    </tr>\n",
       "    <tr>\n",
       "      <td>2</td>\n",
       "      <td>2</td>\n",
       "      <td>Sofishie</td>\n",
       "      <td>Sofishie Sexy V-Back Criss Cross Panties</td>\n",
       "      <td>4.0 out of 5 stars</td>\n",
       "      <td>$8.99 - $13.99</td>\n",
       "      <td>105</td>\n",
       "      <td>['good quality', 'ordered a small', 'panties',...</td>\n",
       "      <td>https://www.amazon.com/Sofishie/b/ref=w_bl_sl_...</td>\n",
       "      <td>Kirsten</td>\n",
       "      <td>5.0 out of 5 stars</td>\n",
       "      <td>Sexy Date Night Panties</td>\n",
       "      <td>May 5, 2019</td>\n",
       "      <td>Size: Large</td>\n",
       "      <td>Color: Black Red</td>\n",
       "      <td>These are really cute and sexy. I wouldn’t wea...</td>\n",
       "    </tr>\n",
       "    <tr>\n",
       "      <td>3</td>\n",
       "      <td>3</td>\n",
       "      <td>Sofishie</td>\n",
       "      <td>Sofishie Sexy V-Back Criss Cross Panties</td>\n",
       "      <td>4.0 out of 5 stars</td>\n",
       "      <td>$8.99 - $13.99</td>\n",
       "      <td>105</td>\n",
       "      <td>['good quality', 'ordered a small', 'panties',...</td>\n",
       "      <td>https://www.amazon.com/Sofishie/b/ref=w_bl_sl_...</td>\n",
       "      <td>Ashley Nicole</td>\n",
       "      <td>4.0 out of 5 stars</td>\n",
       "      <td>Cute, but kinda weird?</td>\n",
       "      <td>July 12, 2018</td>\n",
       "      <td>Size: X-Large</td>\n",
       "      <td>Color: 2p Black Purple</td>\n",
       "      <td>The shape of these panties is very flattering,...</td>\n",
       "    </tr>\n",
       "    <tr>\n",
       "      <td>4</td>\n",
       "      <td>4</td>\n",
       "      <td>Sofishie</td>\n",
       "      <td>Sofishie Sexy V-Back Criss Cross Panties</td>\n",
       "      <td>4.0 out of 5 stars</td>\n",
       "      <td>$8.99 - $13.99</td>\n",
       "      <td>105</td>\n",
       "      <td>['good quality', 'ordered a small', 'panties',...</td>\n",
       "      <td>https://www.amazon.com/Sofishie/b/ref=w_bl_sl_...</td>\n",
       "      <td>Amazon Customer</td>\n",
       "      <td>1.0 out of 5 stars</td>\n",
       "      <td>Runs big</td>\n",
       "      <td>April 10, 2018</td>\n",
       "      <td>Size: Small</td>\n",
       "      <td>Color: Black</td>\n",
       "      <td>I ordered the small no we’re did it day runs b...</td>\n",
       "    </tr>\n",
       "  </tbody>\n",
       "</table>\n",
       "</div>"
      ],
      "text/plain": [
       "   Unnamed: 0 shop_name                             product_title  \\\n",
       "0           0  Sofishie  Sofishie Sexy V-Back Criss Cross Panties   \n",
       "1           1  Sofishie  Sofishie Sexy V-Back Criss Cross Panties   \n",
       "2           2  Sofishie  Sofishie Sexy V-Back Criss Cross Panties   \n",
       "3           3  Sofishie  Sofishie Sexy V-Back Criss Cross Panties   \n",
       "4           4  Sofishie  Sofishie Sexy V-Back Criss Cross Panties   \n",
       "\n",
       "                 star           price review_num  \\\n",
       "0  4.0 out of 5 stars  $8.99 - $13.99        105   \n",
       "1  4.0 out of 5 stars  $8.99 - $13.99        105   \n",
       "2  4.0 out of 5 stars  $8.99 - $13.99        105   \n",
       "3  4.0 out of 5 stars  $8.99 - $13.99        105   \n",
       "4  4.0 out of 5 stars  $8.99 - $13.99        105   \n",
       "\n",
       "                                     reviews_mention  \\\n",
       "0  ['good quality', 'ordered a small', 'panties',...   \n",
       "1  ['good quality', 'ordered a small', 'panties',...   \n",
       "2  ['good quality', 'ordered a small', 'panties',...   \n",
       "3  ['good quality', 'ordered a small', 'panties',...   \n",
       "4  ['good quality', 'ordered a small', 'panties',...   \n",
       "\n",
       "                                           shop_link     profile_name  \\\n",
       "0  https://www.amazon.com/Sofishie/b/ref=w_bl_sl_...    andrew m nash   \n",
       "1  https://www.amazon.com/Sofishie/b/ref=w_bl_sl_...             Kato   \n",
       "2  https://www.amazon.com/Sofishie/b/ref=w_bl_sl_...          Kirsten   \n",
       "3  https://www.amazon.com/Sofishie/b/ref=w_bl_sl_...    Ashley Nicole   \n",
       "4  https://www.amazon.com/Sofishie/b/ref=w_bl_sl_...  Amazon Customer   \n",
       "\n",
       "         profile_star             review_title       review_date  \\\n",
       "0  5.0 out of 5 stars       Love these panties   August 23, 2018   \n",
       "1  5.0 out of 5 stars       Provocative Undies  January 11, 2019   \n",
       "2  5.0 out of 5 stars  Sexy Date Night Panties       May 5, 2019   \n",
       "3  4.0 out of 5 stars   Cute, but kinda weird?     July 12, 2018   \n",
       "4  1.0 out of 5 stars                 Runs big    April 10, 2018   \n",
       "\n",
       "            size                   color  \\\n",
       "0   Size: Medium            Color: Green   \n",
       "1   Size: Medium            Color: Black   \n",
       "2    Size: Large        Color: Black Red   \n",
       "3  Size: X-Large  Color: 2p Black Purple   \n",
       "4    Size: Small            Color: Black   \n",
       "\n",
       "                                         review_text  \n",
       "0  First off, male user here. I have purchased al...  \n",
       "1  Sexy look, but didn’t notice the brand until s...  \n",
       "2  These are really cute and sexy. I wouldn’t wea...  \n",
       "3  The shape of these panties is very flattering,...  \n",
       "4  I ordered the small no we’re did it day runs b...  "
      ]
     },
     "execution_count": 4,
     "metadata": {},
     "output_type": "execute_result"
    }
   ],
   "source": [
    "df = pd.read_csv('each_description_review.csv')\n",
    "                 \n",
    "df.head()"
   ]
  },
  {
   "cell_type": "code",
   "execution_count": 5,
   "metadata": {},
   "outputs": [
    {
     "data": {
      "text/plain": [
       "Unnamed: 0            0\n",
       "shop_name           343\n",
       "product_title         0\n",
       "star                  0\n",
       "price                 0\n",
       "review_num            0\n",
       "reviews_mention    1608\n",
       "shop_link             0\n",
       "profile_name          0\n",
       "profile_star          0\n",
       "review_title          0\n",
       "review_date           0\n",
       "size                798\n",
       "color               253\n",
       "review_text           4\n",
       "dtype: int64"
      ]
     },
     "execution_count": 5,
     "metadata": {},
     "output_type": "execute_result"
    }
   ],
   "source": [
    "df.isnull().sum()"
   ]
  },
  {
   "cell_type": "code",
   "execution_count": null,
   "metadata": {},
   "outputs": [],
   "source": []
  },
  {
   "cell_type": "code",
   "execution_count": null,
   "metadata": {},
   "outputs": [],
   "source": []
  },
  {
   "cell_type": "code",
   "execution_count": null,
   "metadata": {},
   "outputs": [],
   "source": []
  },
  {
   "cell_type": "code",
   "execution_count": null,
   "metadata": {},
   "outputs": [],
   "source": []
  },
  {
   "cell_type": "code",
   "execution_count": null,
   "metadata": {},
   "outputs": [],
   "source": []
  },
  {
   "cell_type": "code",
   "execution_count": null,
   "metadata": {},
   "outputs": [],
   "source": []
  },
  {
   "cell_type": "code",
   "execution_count": null,
   "metadata": {},
   "outputs": [],
   "source": []
  },
  {
   "cell_type": "code",
   "execution_count": null,
   "metadata": {},
   "outputs": [],
   "source": []
  },
  {
   "cell_type": "code",
   "execution_count": null,
   "metadata": {},
   "outputs": [],
   "source": []
  },
  {
   "cell_type": "code",
   "execution_count": null,
   "metadata": {},
   "outputs": [],
   "source": []
  },
  {
   "cell_type": "code",
   "execution_count": null,
   "metadata": {},
   "outputs": [],
   "source": []
  },
  {
   "cell_type": "code",
   "execution_count": null,
   "metadata": {},
   "outputs": [],
   "source": []
  },
  {
   "cell_type": "code",
   "execution_count": null,
   "metadata": {},
   "outputs": [],
   "source": []
  },
  {
   "cell_type": "code",
   "execution_count": null,
   "metadata": {},
   "outputs": [],
   "source": []
  },
  {
   "cell_type": "code",
   "execution_count": null,
   "metadata": {},
   "outputs": [],
   "source": []
  },
  {
   "cell_type": "code",
   "execution_count": null,
   "metadata": {},
   "outputs": [],
   "source": []
  },
  {
   "cell_type": "code",
   "execution_count": null,
   "metadata": {},
   "outputs": [],
   "source": []
  },
  {
   "cell_type": "code",
   "execution_count": null,
   "metadata": {},
   "outputs": [],
   "source": []
  },
  {
   "cell_type": "code",
   "execution_count": null,
   "metadata": {},
   "outputs": [],
   "source": []
  },
  {
   "cell_type": "code",
   "execution_count": null,
   "metadata": {},
   "outputs": [],
   "source": []
  },
  {
   "cell_type": "code",
   "execution_count": null,
   "metadata": {},
   "outputs": [],
   "source": []
  },
  {
   "cell_type": "code",
   "execution_count": null,
   "metadata": {},
   "outputs": [],
   "source": []
  },
  {
   "cell_type": "code",
   "execution_count": null,
   "metadata": {},
   "outputs": [],
   "source": []
  },
  {
   "cell_type": "code",
   "execution_count": null,
   "metadata": {},
   "outputs": [],
   "source": []
  },
  {
   "cell_type": "code",
   "execution_count": null,
   "metadata": {},
   "outputs": [],
   "source": []
  },
  {
   "cell_type": "code",
   "execution_count": null,
   "metadata": {},
   "outputs": [],
   "source": []
  }
 ],
 "metadata": {
  "kernelspec": {
   "display_name": "Python 3",
   "language": "python",
   "name": "python3"
  },
  "language_info": {
   "codemirror_mode": {
    "name": "ipython",
    "version": 3
   },
   "file_extension": ".py",
   "mimetype": "text/x-python",
   "name": "python",
   "nbconvert_exporter": "python",
   "pygments_lexer": "ipython3",
   "version": "3.7.3"
  }
 },
 "nbformat": 4,
 "nbformat_minor": 2
}
