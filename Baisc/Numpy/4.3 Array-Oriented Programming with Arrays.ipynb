{
 "cells": [
  {
   "cell_type": "markdown",
   "metadata": {},
   "source": [
    "# Chapter 4 NumPy Baiscs: Arrays and Vectorrized Computation "
   ]
  },
  {
   "cell_type": "markdown",
   "metadata": {},
   "source": [
    "## 4.3 Array-Oriented Programming with Arrays "
   ]
  },
  {
   "cell_type": "code",
   "execution_count": 3,
   "metadata": {},
   "outputs": [],
   "source": [
    "import numpy as np "
   ]
  },
  {
   "cell_type": "code",
   "execution_count": 4,
   "metadata": {},
   "outputs": [
    {
     "data": {
      "text/plain": [
       "array([-5.0000000e+00, -4.9900000e+00, -4.9800000e+00, -4.9700000e+00,\n",
       "       -4.9600000e+00, -4.9500000e+00, -4.9400000e+00, -4.9300000e+00,\n",
       "       -4.9200000e+00, -4.9100000e+00, -4.9000000e+00, -4.8900000e+00,\n",
       "       -4.8800000e+00, -4.8700000e+00, -4.8600000e+00, -4.8500000e+00,\n",
       "       -4.8400000e+00, -4.8300000e+00, -4.8200000e+00, -4.8100000e+00,\n",
       "       -4.8000000e+00, -4.7900000e+00, -4.7800000e+00, -4.7700000e+00,\n",
       "       -4.7600000e+00, -4.7500000e+00, -4.7400000e+00, -4.7300000e+00,\n",
       "       -4.7200000e+00, -4.7100000e+00, -4.7000000e+00, -4.6900000e+00,\n",
       "       -4.6800000e+00, -4.6700000e+00, -4.6600000e+00, -4.6500000e+00,\n",
       "       -4.6400000e+00, -4.6300000e+00, -4.6200000e+00, -4.6100000e+00,\n",
       "       -4.6000000e+00, -4.5900000e+00, -4.5800000e+00, -4.5700000e+00,\n",
       "       -4.5600000e+00, -4.5500000e+00, -4.5400000e+00, -4.5300000e+00,\n",
       "       -4.5200000e+00, -4.5100000e+00, -4.5000000e+00, -4.4900000e+00,\n",
       "       -4.4800000e+00, -4.4700000e+00, -4.4600000e+00, -4.4500000e+00,\n",
       "       -4.4400000e+00, -4.4300000e+00, -4.4200000e+00, -4.4100000e+00,\n",
       "       -4.4000000e+00, -4.3900000e+00, -4.3800000e+00, -4.3700000e+00,\n",
       "       -4.3600000e+00, -4.3500000e+00, -4.3400000e+00, -4.3300000e+00,\n",
       "       -4.3200000e+00, -4.3100000e+00, -4.3000000e+00, -4.2900000e+00,\n",
       "       -4.2800000e+00, -4.2700000e+00, -4.2600000e+00, -4.2500000e+00,\n",
       "       -4.2400000e+00, -4.2300000e+00, -4.2200000e+00, -4.2100000e+00,\n",
       "       -4.2000000e+00, -4.1900000e+00, -4.1800000e+00, -4.1700000e+00,\n",
       "       -4.1600000e+00, -4.1500000e+00, -4.1400000e+00, -4.1300000e+00,\n",
       "       -4.1200000e+00, -4.1100000e+00, -4.1000000e+00, -4.0900000e+00,\n",
       "       -4.0800000e+00, -4.0700000e+00, -4.0600000e+00, -4.0500000e+00,\n",
       "       -4.0400000e+00, -4.0300000e+00, -4.0200000e+00, -4.0100000e+00,\n",
       "       -4.0000000e+00, -3.9900000e+00, -3.9800000e+00, -3.9700000e+00,\n",
       "       -3.9600000e+00, -3.9500000e+00, -3.9400000e+00, -3.9300000e+00,\n",
       "       -3.9200000e+00, -3.9100000e+00, -3.9000000e+00, -3.8900000e+00,\n",
       "       -3.8800000e+00, -3.8700000e+00, -3.8600000e+00, -3.8500000e+00,\n",
       "       -3.8400000e+00, -3.8300000e+00, -3.8200000e+00, -3.8100000e+00,\n",
       "       -3.8000000e+00, -3.7900000e+00, -3.7800000e+00, -3.7700000e+00,\n",
       "       -3.7600000e+00, -3.7500000e+00, -3.7400000e+00, -3.7300000e+00,\n",
       "       -3.7200000e+00, -3.7100000e+00, -3.7000000e+00, -3.6900000e+00,\n",
       "       -3.6800000e+00, -3.6700000e+00, -3.6600000e+00, -3.6500000e+00,\n",
       "       -3.6400000e+00, -3.6300000e+00, -3.6200000e+00, -3.6100000e+00,\n",
       "       -3.6000000e+00, -3.5900000e+00, -3.5800000e+00, -3.5700000e+00,\n",
       "       -3.5600000e+00, -3.5500000e+00, -3.5400000e+00, -3.5300000e+00,\n",
       "       -3.5200000e+00, -3.5100000e+00, -3.5000000e+00, -3.4900000e+00,\n",
       "       -3.4800000e+00, -3.4700000e+00, -3.4600000e+00, -3.4500000e+00,\n",
       "       -3.4400000e+00, -3.4300000e+00, -3.4200000e+00, -3.4100000e+00,\n",
       "       -3.4000000e+00, -3.3900000e+00, -3.3800000e+00, -3.3700000e+00,\n",
       "       -3.3600000e+00, -3.3500000e+00, -3.3400000e+00, -3.3300000e+00,\n",
       "       -3.3200000e+00, -3.3100000e+00, -3.3000000e+00, -3.2900000e+00,\n",
       "       -3.2800000e+00, -3.2700000e+00, -3.2600000e+00, -3.2500000e+00,\n",
       "       -3.2400000e+00, -3.2300000e+00, -3.2200000e+00, -3.2100000e+00,\n",
       "       -3.2000000e+00, -3.1900000e+00, -3.1800000e+00, -3.1700000e+00,\n",
       "       -3.1600000e+00, -3.1500000e+00, -3.1400000e+00, -3.1300000e+00,\n",
       "       -3.1200000e+00, -3.1100000e+00, -3.1000000e+00, -3.0900000e+00,\n",
       "       -3.0800000e+00, -3.0700000e+00, -3.0600000e+00, -3.0500000e+00,\n",
       "       -3.0400000e+00, -3.0300000e+00, -3.0200000e+00, -3.0100000e+00,\n",
       "       -3.0000000e+00, -2.9900000e+00, -2.9800000e+00, -2.9700000e+00,\n",
       "       -2.9600000e+00, -2.9500000e+00, -2.9400000e+00, -2.9300000e+00,\n",
       "       -2.9200000e+00, -2.9100000e+00, -2.9000000e+00, -2.8900000e+00,\n",
       "       -2.8800000e+00, -2.8700000e+00, -2.8600000e+00, -2.8500000e+00,\n",
       "       -2.8400000e+00, -2.8300000e+00, -2.8200000e+00, -2.8100000e+00,\n",
       "       -2.8000000e+00, -2.7900000e+00, -2.7800000e+00, -2.7700000e+00,\n",
       "       -2.7600000e+00, -2.7500000e+00, -2.7400000e+00, -2.7300000e+00,\n",
       "       -2.7200000e+00, -2.7100000e+00, -2.7000000e+00, -2.6900000e+00,\n",
       "       -2.6800000e+00, -2.6700000e+00, -2.6600000e+00, -2.6500000e+00,\n",
       "       -2.6400000e+00, -2.6300000e+00, -2.6200000e+00, -2.6100000e+00,\n",
       "       -2.6000000e+00, -2.5900000e+00, -2.5800000e+00, -2.5700000e+00,\n",
       "       -2.5600000e+00, -2.5500000e+00, -2.5400000e+00, -2.5300000e+00,\n",
       "       -2.5200000e+00, -2.5100000e+00, -2.5000000e+00, -2.4900000e+00,\n",
       "       -2.4800000e+00, -2.4700000e+00, -2.4600000e+00, -2.4500000e+00,\n",
       "       -2.4400000e+00, -2.4300000e+00, -2.4200000e+00, -2.4100000e+00,\n",
       "       -2.4000000e+00, -2.3900000e+00, -2.3800000e+00, -2.3700000e+00,\n",
       "       -2.3600000e+00, -2.3500000e+00, -2.3400000e+00, -2.3300000e+00,\n",
       "       -2.3200000e+00, -2.3100000e+00, -2.3000000e+00, -2.2900000e+00,\n",
       "       -2.2800000e+00, -2.2700000e+00, -2.2600000e+00, -2.2500000e+00,\n",
       "       -2.2400000e+00, -2.2300000e+00, -2.2200000e+00, -2.2100000e+00,\n",
       "       -2.2000000e+00, -2.1900000e+00, -2.1800000e+00, -2.1700000e+00,\n",
       "       -2.1600000e+00, -2.1500000e+00, -2.1400000e+00, -2.1300000e+00,\n",
       "       -2.1200000e+00, -2.1100000e+00, -2.1000000e+00, -2.0900000e+00,\n",
       "       -2.0800000e+00, -2.0700000e+00, -2.0600000e+00, -2.0500000e+00,\n",
       "       -2.0400000e+00, -2.0300000e+00, -2.0200000e+00, -2.0100000e+00,\n",
       "       -2.0000000e+00, -1.9900000e+00, -1.9800000e+00, -1.9700000e+00,\n",
       "       -1.9600000e+00, -1.9500000e+00, -1.9400000e+00, -1.9300000e+00,\n",
       "       -1.9200000e+00, -1.9100000e+00, -1.9000000e+00, -1.8900000e+00,\n",
       "       -1.8800000e+00, -1.8700000e+00, -1.8600000e+00, -1.8500000e+00,\n",
       "       -1.8400000e+00, -1.8300000e+00, -1.8200000e+00, -1.8100000e+00,\n",
       "       -1.8000000e+00, -1.7900000e+00, -1.7800000e+00, -1.7700000e+00,\n",
       "       -1.7600000e+00, -1.7500000e+00, -1.7400000e+00, -1.7300000e+00,\n",
       "       -1.7200000e+00, -1.7100000e+00, -1.7000000e+00, -1.6900000e+00,\n",
       "       -1.6800000e+00, -1.6700000e+00, -1.6600000e+00, -1.6500000e+00,\n",
       "       -1.6400000e+00, -1.6300000e+00, -1.6200000e+00, -1.6100000e+00,\n",
       "       -1.6000000e+00, -1.5900000e+00, -1.5800000e+00, -1.5700000e+00,\n",
       "       -1.5600000e+00, -1.5500000e+00, -1.5400000e+00, -1.5300000e+00,\n",
       "       -1.5200000e+00, -1.5100000e+00, -1.5000000e+00, -1.4900000e+00,\n",
       "       -1.4800000e+00, -1.4700000e+00, -1.4600000e+00, -1.4500000e+00,\n",
       "       -1.4400000e+00, -1.4300000e+00, -1.4200000e+00, -1.4100000e+00,\n",
       "       -1.4000000e+00, -1.3900000e+00, -1.3800000e+00, -1.3700000e+00,\n",
       "       -1.3600000e+00, -1.3500000e+00, -1.3400000e+00, -1.3300000e+00,\n",
       "       -1.3200000e+00, -1.3100000e+00, -1.3000000e+00, -1.2900000e+00,\n",
       "       -1.2800000e+00, -1.2700000e+00, -1.2600000e+00, -1.2500000e+00,\n",
       "       -1.2400000e+00, -1.2300000e+00, -1.2200000e+00, -1.2100000e+00,\n",
       "       -1.2000000e+00, -1.1900000e+00, -1.1800000e+00, -1.1700000e+00,\n",
       "       -1.1600000e+00, -1.1500000e+00, -1.1400000e+00, -1.1300000e+00,\n",
       "       -1.1200000e+00, -1.1100000e+00, -1.1000000e+00, -1.0900000e+00,\n",
       "       -1.0800000e+00, -1.0700000e+00, -1.0600000e+00, -1.0500000e+00,\n",
       "       -1.0400000e+00, -1.0300000e+00, -1.0200000e+00, -1.0100000e+00,\n",
       "       -1.0000000e+00, -9.9000000e-01, -9.8000000e-01, -9.7000000e-01,\n",
       "       -9.6000000e-01, -9.5000000e-01, -9.4000000e-01, -9.3000000e-01,\n",
       "       -9.2000000e-01, -9.1000000e-01, -9.0000000e-01, -8.9000000e-01,\n",
       "       -8.8000000e-01, -8.7000000e-01, -8.6000000e-01, -8.5000000e-01,\n",
       "       -8.4000000e-01, -8.3000000e-01, -8.2000000e-01, -8.1000000e-01,\n",
       "       -8.0000000e-01, -7.9000000e-01, -7.8000000e-01, -7.7000000e-01,\n",
       "       -7.6000000e-01, -7.5000000e-01, -7.4000000e-01, -7.3000000e-01,\n",
       "       -7.2000000e-01, -7.1000000e-01, -7.0000000e-01, -6.9000000e-01,\n",
       "       -6.8000000e-01, -6.7000000e-01, -6.6000000e-01, -6.5000000e-01,\n",
       "       -6.4000000e-01, -6.3000000e-01, -6.2000000e-01, -6.1000000e-01,\n",
       "       -6.0000000e-01, -5.9000000e-01, -5.8000000e-01, -5.7000000e-01,\n",
       "       -5.6000000e-01, -5.5000000e-01, -5.4000000e-01, -5.3000000e-01,\n",
       "       -5.2000000e-01, -5.1000000e-01, -5.0000000e-01, -4.9000000e-01,\n",
       "       -4.8000000e-01, -4.7000000e-01, -4.6000000e-01, -4.5000000e-01,\n",
       "       -4.4000000e-01, -4.3000000e-01, -4.2000000e-01, -4.1000000e-01,\n",
       "       -4.0000000e-01, -3.9000000e-01, -3.8000000e-01, -3.7000000e-01,\n",
       "       -3.6000000e-01, -3.5000000e-01, -3.4000000e-01, -3.3000000e-01,\n",
       "       -3.2000000e-01, -3.1000000e-01, -3.0000000e-01, -2.9000000e-01,\n",
       "       -2.8000000e-01, -2.7000000e-01, -2.6000000e-01, -2.5000000e-01,\n",
       "       -2.4000000e-01, -2.3000000e-01, -2.2000000e-01, -2.1000000e-01,\n",
       "       -2.0000000e-01, -1.9000000e-01, -1.8000000e-01, -1.7000000e-01,\n",
       "       -1.6000000e-01, -1.5000000e-01, -1.4000000e-01, -1.3000000e-01,\n",
       "       -1.2000000e-01, -1.1000000e-01, -1.0000000e-01, -9.0000000e-02,\n",
       "       -8.0000000e-02, -7.0000000e-02, -6.0000000e-02, -5.0000000e-02,\n",
       "       -4.0000000e-02, -3.0000000e-02, -2.0000000e-02, -1.0000000e-02,\n",
       "       -1.0658141e-13,  1.0000000e-02,  2.0000000e-02,  3.0000000e-02,\n",
       "        4.0000000e-02,  5.0000000e-02,  6.0000000e-02,  7.0000000e-02,\n",
       "        8.0000000e-02,  9.0000000e-02,  1.0000000e-01,  1.1000000e-01,\n",
       "        1.2000000e-01,  1.3000000e-01,  1.4000000e-01,  1.5000000e-01,\n",
       "        1.6000000e-01,  1.7000000e-01,  1.8000000e-01,  1.9000000e-01,\n",
       "        2.0000000e-01,  2.1000000e-01,  2.2000000e-01,  2.3000000e-01,\n",
       "        2.4000000e-01,  2.5000000e-01,  2.6000000e-01,  2.7000000e-01,\n",
       "        2.8000000e-01,  2.9000000e-01,  3.0000000e-01,  3.1000000e-01,\n",
       "        3.2000000e-01,  3.3000000e-01,  3.4000000e-01,  3.5000000e-01,\n",
       "        3.6000000e-01,  3.7000000e-01,  3.8000000e-01,  3.9000000e-01,\n",
       "        4.0000000e-01,  4.1000000e-01,  4.2000000e-01,  4.3000000e-01,\n",
       "        4.4000000e-01,  4.5000000e-01,  4.6000000e-01,  4.7000000e-01,\n",
       "        4.8000000e-01,  4.9000000e-01,  5.0000000e-01,  5.1000000e-01,\n",
       "        5.2000000e-01,  5.3000000e-01,  5.4000000e-01,  5.5000000e-01,\n",
       "        5.6000000e-01,  5.7000000e-01,  5.8000000e-01,  5.9000000e-01,\n",
       "        6.0000000e-01,  6.1000000e-01,  6.2000000e-01,  6.3000000e-01,\n",
       "        6.4000000e-01,  6.5000000e-01,  6.6000000e-01,  6.7000000e-01,\n",
       "        6.8000000e-01,  6.9000000e-01,  7.0000000e-01,  7.1000000e-01,\n",
       "        7.2000000e-01,  7.3000000e-01,  7.4000000e-01,  7.5000000e-01,\n",
       "        7.6000000e-01,  7.7000000e-01,  7.8000000e-01,  7.9000000e-01,\n",
       "        8.0000000e-01,  8.1000000e-01,  8.2000000e-01,  8.3000000e-01,\n",
       "        8.4000000e-01,  8.5000000e-01,  8.6000000e-01,  8.7000000e-01,\n",
       "        8.8000000e-01,  8.9000000e-01,  9.0000000e-01,  9.1000000e-01,\n",
       "        9.2000000e-01,  9.3000000e-01,  9.4000000e-01,  9.5000000e-01,\n",
       "        9.6000000e-01,  9.7000000e-01,  9.8000000e-01,  9.9000000e-01,\n",
       "        1.0000000e+00,  1.0100000e+00,  1.0200000e+00,  1.0300000e+00,\n",
       "        1.0400000e+00,  1.0500000e+00,  1.0600000e+00,  1.0700000e+00,\n",
       "        1.0800000e+00,  1.0900000e+00,  1.1000000e+00,  1.1100000e+00,\n",
       "        1.1200000e+00,  1.1300000e+00,  1.1400000e+00,  1.1500000e+00,\n",
       "        1.1600000e+00,  1.1700000e+00,  1.1800000e+00,  1.1900000e+00,\n",
       "        1.2000000e+00,  1.2100000e+00,  1.2200000e+00,  1.2300000e+00,\n",
       "        1.2400000e+00,  1.2500000e+00,  1.2600000e+00,  1.2700000e+00,\n",
       "        1.2800000e+00,  1.2900000e+00,  1.3000000e+00,  1.3100000e+00,\n",
       "        1.3200000e+00,  1.3300000e+00,  1.3400000e+00,  1.3500000e+00,\n",
       "        1.3600000e+00,  1.3700000e+00,  1.3800000e+00,  1.3900000e+00,\n",
       "        1.4000000e+00,  1.4100000e+00,  1.4200000e+00,  1.4300000e+00,\n",
       "        1.4400000e+00,  1.4500000e+00,  1.4600000e+00,  1.4700000e+00,\n",
       "        1.4800000e+00,  1.4900000e+00,  1.5000000e+00,  1.5100000e+00,\n",
       "        1.5200000e+00,  1.5300000e+00,  1.5400000e+00,  1.5500000e+00,\n",
       "        1.5600000e+00,  1.5700000e+00,  1.5800000e+00,  1.5900000e+00,\n",
       "        1.6000000e+00,  1.6100000e+00,  1.6200000e+00,  1.6300000e+00,\n",
       "        1.6400000e+00,  1.6500000e+00,  1.6600000e+00,  1.6700000e+00,\n",
       "        1.6800000e+00,  1.6900000e+00,  1.7000000e+00,  1.7100000e+00,\n",
       "        1.7200000e+00,  1.7300000e+00,  1.7400000e+00,  1.7500000e+00,\n",
       "        1.7600000e+00,  1.7700000e+00,  1.7800000e+00,  1.7900000e+00,\n",
       "        1.8000000e+00,  1.8100000e+00,  1.8200000e+00,  1.8300000e+00,\n",
       "        1.8400000e+00,  1.8500000e+00,  1.8600000e+00,  1.8700000e+00,\n",
       "        1.8800000e+00,  1.8900000e+00,  1.9000000e+00,  1.9100000e+00,\n",
       "        1.9200000e+00,  1.9300000e+00,  1.9400000e+00,  1.9500000e+00,\n",
       "        1.9600000e+00,  1.9700000e+00,  1.9800000e+00,  1.9900000e+00,\n",
       "        2.0000000e+00,  2.0100000e+00,  2.0200000e+00,  2.0300000e+00,\n",
       "        2.0400000e+00,  2.0500000e+00,  2.0600000e+00,  2.0700000e+00,\n",
       "        2.0800000e+00,  2.0900000e+00,  2.1000000e+00,  2.1100000e+00,\n",
       "        2.1200000e+00,  2.1300000e+00,  2.1400000e+00,  2.1500000e+00,\n",
       "        2.1600000e+00,  2.1700000e+00,  2.1800000e+00,  2.1900000e+00,\n",
       "        2.2000000e+00,  2.2100000e+00,  2.2200000e+00,  2.2300000e+00,\n",
       "        2.2400000e+00,  2.2500000e+00,  2.2600000e+00,  2.2700000e+00,\n",
       "        2.2800000e+00,  2.2900000e+00,  2.3000000e+00,  2.3100000e+00,\n",
       "        2.3200000e+00,  2.3300000e+00,  2.3400000e+00,  2.3500000e+00,\n",
       "        2.3600000e+00,  2.3700000e+00,  2.3800000e+00,  2.3900000e+00,\n",
       "        2.4000000e+00,  2.4100000e+00,  2.4200000e+00,  2.4300000e+00,\n",
       "        2.4400000e+00,  2.4500000e+00,  2.4600000e+00,  2.4700000e+00,\n",
       "        2.4800000e+00,  2.4900000e+00,  2.5000000e+00,  2.5100000e+00,\n",
       "        2.5200000e+00,  2.5300000e+00,  2.5400000e+00,  2.5500000e+00,\n",
       "        2.5600000e+00,  2.5700000e+00,  2.5800000e+00,  2.5900000e+00,\n",
       "        2.6000000e+00,  2.6100000e+00,  2.6200000e+00,  2.6300000e+00,\n",
       "        2.6400000e+00,  2.6500000e+00,  2.6600000e+00,  2.6700000e+00,\n",
       "        2.6800000e+00,  2.6900000e+00,  2.7000000e+00,  2.7100000e+00,\n",
       "        2.7200000e+00,  2.7300000e+00,  2.7400000e+00,  2.7500000e+00,\n",
       "        2.7600000e+00,  2.7700000e+00,  2.7800000e+00,  2.7900000e+00,\n",
       "        2.8000000e+00,  2.8100000e+00,  2.8200000e+00,  2.8300000e+00,\n",
       "        2.8400000e+00,  2.8500000e+00,  2.8600000e+00,  2.8700000e+00,\n",
       "        2.8800000e+00,  2.8900000e+00,  2.9000000e+00,  2.9100000e+00,\n",
       "        2.9200000e+00,  2.9300000e+00,  2.9400000e+00,  2.9500000e+00,\n",
       "        2.9600000e+00,  2.9700000e+00,  2.9800000e+00,  2.9900000e+00,\n",
       "        3.0000000e+00,  3.0100000e+00,  3.0200000e+00,  3.0300000e+00,\n",
       "        3.0400000e+00,  3.0500000e+00,  3.0600000e+00,  3.0700000e+00,\n",
       "        3.0800000e+00,  3.0900000e+00,  3.1000000e+00,  3.1100000e+00,\n",
       "        3.1200000e+00,  3.1300000e+00,  3.1400000e+00,  3.1500000e+00,\n",
       "        3.1600000e+00,  3.1700000e+00,  3.1800000e+00,  3.1900000e+00,\n",
       "        3.2000000e+00,  3.2100000e+00,  3.2200000e+00,  3.2300000e+00,\n",
       "        3.2400000e+00,  3.2500000e+00,  3.2600000e+00,  3.2700000e+00,\n",
       "        3.2800000e+00,  3.2900000e+00,  3.3000000e+00,  3.3100000e+00,\n",
       "        3.3200000e+00,  3.3300000e+00,  3.3400000e+00,  3.3500000e+00,\n",
       "        3.3600000e+00,  3.3700000e+00,  3.3800000e+00,  3.3900000e+00,\n",
       "        3.4000000e+00,  3.4100000e+00,  3.4200000e+00,  3.4300000e+00,\n",
       "        3.4400000e+00,  3.4500000e+00,  3.4600000e+00,  3.4700000e+00,\n",
       "        3.4800000e+00,  3.4900000e+00,  3.5000000e+00,  3.5100000e+00,\n",
       "        3.5200000e+00,  3.5300000e+00,  3.5400000e+00,  3.5500000e+00,\n",
       "        3.5600000e+00,  3.5700000e+00,  3.5800000e+00,  3.5900000e+00,\n",
       "        3.6000000e+00,  3.6100000e+00,  3.6200000e+00,  3.6300000e+00,\n",
       "        3.6400000e+00,  3.6500000e+00,  3.6600000e+00,  3.6700000e+00,\n",
       "        3.6800000e+00,  3.6900000e+00,  3.7000000e+00,  3.7100000e+00,\n",
       "        3.7200000e+00,  3.7300000e+00,  3.7400000e+00,  3.7500000e+00,\n",
       "        3.7600000e+00,  3.7700000e+00,  3.7800000e+00,  3.7900000e+00,\n",
       "        3.8000000e+00,  3.8100000e+00,  3.8200000e+00,  3.8300000e+00,\n",
       "        3.8400000e+00,  3.8500000e+00,  3.8600000e+00,  3.8700000e+00,\n",
       "        3.8800000e+00,  3.8900000e+00,  3.9000000e+00,  3.9100000e+00,\n",
       "        3.9200000e+00,  3.9300000e+00,  3.9400000e+00,  3.9500000e+00,\n",
       "        3.9600000e+00,  3.9700000e+00,  3.9800000e+00,  3.9900000e+00,\n",
       "        4.0000000e+00,  4.0100000e+00,  4.0200000e+00,  4.0300000e+00,\n",
       "        4.0400000e+00,  4.0500000e+00,  4.0600000e+00,  4.0700000e+00,\n",
       "        4.0800000e+00,  4.0900000e+00,  4.1000000e+00,  4.1100000e+00,\n",
       "        4.1200000e+00,  4.1300000e+00,  4.1400000e+00,  4.1500000e+00,\n",
       "        4.1600000e+00,  4.1700000e+00,  4.1800000e+00,  4.1900000e+00,\n",
       "        4.2000000e+00,  4.2100000e+00,  4.2200000e+00,  4.2300000e+00,\n",
       "        4.2400000e+00,  4.2500000e+00,  4.2600000e+00,  4.2700000e+00,\n",
       "        4.2800000e+00,  4.2900000e+00,  4.3000000e+00,  4.3100000e+00,\n",
       "        4.3200000e+00,  4.3300000e+00,  4.3400000e+00,  4.3500000e+00,\n",
       "        4.3600000e+00,  4.3700000e+00,  4.3800000e+00,  4.3900000e+00,\n",
       "        4.4000000e+00,  4.4100000e+00,  4.4200000e+00,  4.4300000e+00,\n",
       "        4.4400000e+00,  4.4500000e+00,  4.4600000e+00,  4.4700000e+00,\n",
       "        4.4800000e+00,  4.4900000e+00,  4.5000000e+00,  4.5100000e+00,\n",
       "        4.5200000e+00,  4.5300000e+00,  4.5400000e+00,  4.5500000e+00,\n",
       "        4.5600000e+00,  4.5700000e+00,  4.5800000e+00,  4.5900000e+00,\n",
       "        4.6000000e+00,  4.6100000e+00,  4.6200000e+00,  4.6300000e+00,\n",
       "        4.6400000e+00,  4.6500000e+00,  4.6600000e+00,  4.6700000e+00,\n",
       "        4.6800000e+00,  4.6900000e+00,  4.7000000e+00,  4.7100000e+00,\n",
       "        4.7200000e+00,  4.7300000e+00,  4.7400000e+00,  4.7500000e+00,\n",
       "        4.7600000e+00,  4.7700000e+00,  4.7800000e+00,  4.7900000e+00,\n",
       "        4.8000000e+00,  4.8100000e+00,  4.8200000e+00,  4.8300000e+00,\n",
       "        4.8400000e+00,  4.8500000e+00,  4.8600000e+00,  4.8700000e+00,\n",
       "        4.8800000e+00,  4.8900000e+00,  4.9000000e+00,  4.9100000e+00,\n",
       "        4.9200000e+00,  4.9300000e+00,  4.9400000e+00,  4.9500000e+00,\n",
       "        4.9600000e+00,  4.9700000e+00,  4.9800000e+00,  4.9900000e+00])"
      ]
     },
     "execution_count": 4,
     "metadata": {},
     "output_type": "execute_result"
    }
   ],
   "source": [
    "points = np.arange(-5,5,0.01)\n",
    "points"
   ]
  },
  {
   "cell_type": "code",
   "execution_count": 5,
   "metadata": {},
   "outputs": [
    {
     "data": {
      "text/plain": [
       "array([[-5.  , -4.99, -4.98, ...,  4.97,  4.98,  4.99],\n",
       "       [-5.  , -4.99, -4.98, ...,  4.97,  4.98,  4.99],\n",
       "       [-5.  , -4.99, -4.98, ...,  4.97,  4.98,  4.99],\n",
       "       ...,\n",
       "       [-5.  , -4.99, -4.98, ...,  4.97,  4.98,  4.99],\n",
       "       [-5.  , -4.99, -4.98, ...,  4.97,  4.98,  4.99],\n",
       "       [-5.  , -4.99, -4.98, ...,  4.97,  4.98,  4.99]])"
      ]
     },
     "execution_count": 5,
     "metadata": {},
     "output_type": "execute_result"
    }
   ],
   "source": [
    "xs, ys = np.meshgrid(points, points)\n",
    "xs"
   ]
  },
  {
   "cell_type": "code",
   "execution_count": 6,
   "metadata": {},
   "outputs": [
    {
     "data": {
      "text/plain": [
       "array([[-5.  , -5.  , -5.  , ..., -5.  , -5.  , -5.  ],\n",
       "       [-4.99, -4.99, -4.99, ..., -4.99, -4.99, -4.99],\n",
       "       [-4.98, -4.98, -4.98, ..., -4.98, -4.98, -4.98],\n",
       "       ...,\n",
       "       [ 4.97,  4.97,  4.97, ...,  4.97,  4.97,  4.97],\n",
       "       [ 4.98,  4.98,  4.98, ...,  4.98,  4.98,  4.98],\n",
       "       [ 4.99,  4.99,  4.99, ...,  4.99,  4.99,  4.99]])"
      ]
     },
     "execution_count": 6,
     "metadata": {},
     "output_type": "execute_result"
    }
   ],
   "source": [
    "ys "
   ]
  },
  {
   "cell_type": "code",
   "execution_count": 7,
   "metadata": {},
   "outputs": [
    {
     "data": {
      "text/plain": [
       "array([[5.  , 4.99, 4.98, ..., 4.97, 4.98, 4.99],\n",
       "       [5.  , 4.99, 4.98, ..., 4.97, 4.98, 4.99],\n",
       "       [5.  , 4.99, 4.98, ..., 4.97, 4.98, 4.99],\n",
       "       ...,\n",
       "       [5.  , 4.99, 4.98, ..., 4.97, 4.98, 4.99],\n",
       "       [5.  , 4.99, 4.98, ..., 4.97, 4.98, 4.99],\n",
       "       [5.  , 4.99, 4.98, ..., 4.97, 4.98, 4.99]])"
      ]
     },
     "execution_count": 7,
     "metadata": {},
     "output_type": "execute_result"
    }
   ],
   "source": [
    "z = np.sqrt(xs**2, ys**2)\n",
    "z"
   ]
  },
  {
   "cell_type": "code",
   "execution_count": 11,
   "metadata": {},
   "outputs": [
    {
     "data": {
      "text/plain": [
       "<matplotlib.colorbar.Colorbar at 0x1ed6c16ca58>"
      ]
     },
     "execution_count": 11,
     "metadata": {},
     "output_type": "execute_result"
    },
    {
     "data": {
      "image/png": "[encoded data removed]",
      "text/plain": [
       "<Figure size 432x288 with 2 Axes>"
      ]
     },
     "metadata": {
      "needs_background": "light"
     },
     "output_type": "display_data"
    }
   ],
   "source": [
    "import matplotlib.pyplot as plt \n",
    "\n",
    "%matplotlib inline \n",
    "plt.imshow(z, cmap= plt.cm.gray)\n",
    "plt.colorbar()"
   ]
  },
  {
   "cell_type": "code",
   "execution_count": null,
   "metadata": {},
   "outputs": [],
   "source": []
  },
  {
   "cell_type": "markdown",
   "metadata": {},
   "source": [
    "### Expressing Condictional Logoc as Array Operations "
   ]
  },
  {
   "cell_type": "code",
   "execution_count": 12,
   "metadata": {},
   "outputs": [],
   "source": [
    "xarr = np.array([1.1, 1.2,1.3,1.4,1.5])\n",
    "yarr = np.array([2.1,2.2,2.3,2.4,2.5])\n",
    "\n",
    "cond = np.array([True, False, True, True, False])"
   ]
  },
  {
   "cell_type": "code",
   "execution_count": 13,
   "metadata": {},
   "outputs": [
    {
     "data": {
      "text/plain": [
       "[1.1, 2.2, 1.3, 1.4, 2.5]"
      ]
     },
     "execution_count": 13,
     "metadata": {},
     "output_type": "execute_result"
    }
   ],
   "source": [
    "result = [(x if c else y)\n",
    "         for x,y,c in zip(xarr, yarr, cond)]\n",
    "\n",
    "result"
   ]
  },
  {
   "cell_type": "code",
   "execution_count": 14,
   "metadata": {},
   "outputs": [
    {
     "data": {
      "text/plain": [
       "array([1.1, 2.2, 1.3, 1.4, 2.5])"
      ]
     },
     "execution_count": 14,
     "metadata": {},
     "output_type": "execute_result"
    }
   ],
   "source": [
    "result = np.where(cond, xarr, yarr)\n",
    "result"
   ]
  },
  {
   "cell_type": "code",
   "execution_count": null,
   "metadata": {},
   "outputs": [],
   "source": []
  },
  {
   "cell_type": "code",
   "execution_count": 15,
   "metadata": {},
   "outputs": [
    {
     "data": {
      "text/plain": [
       "array([[-0.22055863,  1.86256415, -0.31334557,  0.81689255],\n",
       "       [ 0.755341  ,  0.53945929, -0.80159707,  0.03135666],\n",
       "       [ 0.72572287,  0.26538734,  0.77031523, -1.02440023],\n",
       "       [ 1.32328332,  0.70553749,  0.26830021, -0.29831461]])"
      ]
     },
     "execution_count": 15,
     "metadata": {},
     "output_type": "execute_result"
    }
   ],
   "source": [
    "arr = np.random.randn(4,4)\n",
    "arr"
   ]
  },
  {
   "cell_type": "code",
   "execution_count": 16,
   "metadata": {},
   "outputs": [
    {
     "data": {
      "text/plain": [
       "array([[False,  True, False,  True],\n",
       "       [ True,  True, False,  True],\n",
       "       [ True,  True,  True, False],\n",
       "       [ True,  True,  True, False]])"
      ]
     },
     "execution_count": 16,
     "metadata": {},
     "output_type": "execute_result"
    }
   ],
   "source": [
    "arr > 0 "
   ]
  },
  {
   "cell_type": "code",
   "execution_count": 17,
   "metadata": {},
   "outputs": [
    {
     "data": {
      "text/plain": [
       "array([[-2,  2, -2,  2],\n",
       "       [ 2,  2, -2,  2],\n",
       "       [ 2,  2,  2, -2],\n",
       "       [ 2,  2,  2, -2]])"
      ]
     },
     "execution_count": 17,
     "metadata": {},
     "output_type": "execute_result"
    }
   ],
   "source": [
    "np.where(arr>0,2,-2)"
   ]
  },
  {
   "cell_type": "code",
   "execution_count": 18,
   "metadata": {},
   "outputs": [
    {
     "data": {
      "text/plain": [
       "array([[-0.22055863,  2.        , -0.31334557,  2.        ],\n",
       "       [ 2.        ,  2.        , -0.80159707,  2.        ],\n",
       "       [ 2.        ,  2.        ,  2.        , -1.02440023],\n",
       "       [ 2.        ,  2.        ,  2.        , -0.29831461]])"
      ]
     },
     "execution_count": 18,
     "metadata": {},
     "output_type": "execute_result"
    }
   ],
   "source": [
    "\"\"\"\n",
    "you can combine scalars and arrays when using np.where.\n",
    "\"\"\"\n",
    "np.where(arr>0, 2 ,arr)"
   ]
  },
  {
   "cell_type": "code",
   "execution_count": null,
   "metadata": {},
   "outputs": [],
   "source": []
  },
  {
   "cell_type": "markdown",
   "metadata": {},
   "source": [
    "### Mathematical and Statistical Methods "
   ]
  },
  {
   "cell_type": "code",
   "execution_count": 19,
   "metadata": {},
   "outputs": [
    {
     "data": {
      "text/plain": [
       "array([[ 0.00608313, -0.87555973,  0.13224059,  2.10038344],\n",
       "       [-1.42710187, -1.86891269,  0.74100521, -0.7426608 ],\n",
       "       [ 0.2260698 ,  1.28586931,  1.08134214,  0.37418837],\n",
       "       [-0.63066799, -0.52541755,  1.117082  ,  1.1572523 ],\n",
       "       [-0.32207559, -1.4134401 , -0.43208021,  1.03821705]])"
      ]
     },
     "execution_count": 19,
     "metadata": {},
     "output_type": "execute_result"
    }
   ],
   "source": [
    "arr = np.random.randn(5,4)\n",
    "arr"
   ]
  },
  {
   "cell_type": "code",
   "execution_count": 20,
   "metadata": {},
   "outputs": [
    {
     "data": {
      "text/plain": [
       "0.051090839971163114"
      ]
     },
     "execution_count": 20,
     "metadata": {},
     "output_type": "execute_result"
    }
   ],
   "source": [
    "arr.mean()"
   ]
  },
  {
   "cell_type": "code",
   "execution_count": 21,
   "metadata": {},
   "outputs": [
    {
     "data": {
      "text/plain": [
       "0.051090839971163114"
      ]
     },
     "execution_count": 21,
     "metadata": {},
     "output_type": "execute_result"
    }
   ],
   "source": [
    "np.mean(arr)"
   ]
  },
  {
   "cell_type": "code",
   "execution_count": 22,
   "metadata": {},
   "outputs": [
    {
     "data": {
      "text/plain": [
       "1.0218167994232623"
      ]
     },
     "execution_count": 22,
     "metadata": {},
     "output_type": "execute_result"
    }
   ],
   "source": [
    "arr.sum()"
   ]
  },
  {
   "cell_type": "code",
   "execution_count": null,
   "metadata": {},
   "outputs": [],
   "source": []
  },
  {
   "cell_type": "code",
   "execution_count": 23,
   "metadata": {},
   "outputs": [
    {
     "data": {
      "text/plain": [
       "array([[ 0.00608313, -0.87555973,  0.13224059,  2.10038344],\n",
       "       [-1.42710187, -1.86891269,  0.74100521, -0.7426608 ],\n",
       "       [ 0.2260698 ,  1.28586931,  1.08134214,  0.37418837],\n",
       "       [-0.63066799, -0.52541755,  1.117082  ,  1.1572523 ],\n",
       "       [-0.32207559, -1.4134401 , -0.43208021,  1.03821705]])"
      ]
     },
     "execution_count": 23,
     "metadata": {},
     "output_type": "execute_result"
    }
   ],
   "source": [
    "arr"
   ]
  },
  {
   "cell_type": "code",
   "execution_count": 24,
   "metadata": {},
   "outputs": [
    {
     "data": {
      "text/plain": [
       "array([ 0.34078686, -0.82441754,  0.74186741,  0.27956219, -0.28234471])"
      ]
     },
     "execution_count": 24,
     "metadata": {},
     "output_type": "execute_result"
    }
   ],
   "source": [
    "arr.mean(axis=1)"
   ]
  },
  {
   "cell_type": "code",
   "execution_count": 25,
   "metadata": {},
   "outputs": [
    {
     "data": {
      "text/plain": [
       "array([-2.14769252, -3.39746077,  2.63958973,  3.92738035])"
      ]
     },
     "execution_count": 25,
     "metadata": {},
     "output_type": "execute_result"
    }
   ],
   "source": [
    "arr.sum(axis=0)"
   ]
  },
  {
   "cell_type": "code",
   "execution_count": null,
   "metadata": {},
   "outputs": [],
   "source": []
  },
  {
   "cell_type": "code",
   "execution_count": 26,
   "metadata": {},
   "outputs": [
    {
     "data": {
      "text/plain": [
       "array([[0, 1, 2, 3, 4, 5, 6, 7]])"
      ]
     },
     "execution_count": 26,
     "metadata": {},
     "output_type": "execute_result"
    }
   ],
   "source": [
    "\n",
    "arr = np.array([range(8)])\n",
    "\n",
    "arr"
   ]
  },
  {
   "cell_type": "code",
   "execution_count": 27,
   "metadata": {},
   "outputs": [
    {
     "data": {
      "text/plain": [
       "array([ 0,  1,  3,  6, 10, 15, 21, 28], dtype=int32)"
      ]
     },
     "execution_count": 27,
     "metadata": {},
     "output_type": "execute_result"
    }
   ],
   "source": [
    "arr.cumsum()"
   ]
  },
  {
   "cell_type": "code",
   "execution_count": 28,
   "metadata": {},
   "outputs": [
    {
     "data": {
      "text/plain": [
       "array([[0, 1, 2],\n",
       "       [3, 4, 5],\n",
       "       [6, 7, 8]])"
      ]
     },
     "execution_count": 28,
     "metadata": {},
     "output_type": "execute_result"
    }
   ],
   "source": [
    "arr = np.array([[0,1,2],[3,4,5],[6,7,8]])\n",
    "\n",
    "arr"
   ]
  },
  {
   "cell_type": "code",
   "execution_count": 29,
   "metadata": {},
   "outputs": [
    {
     "data": {
      "text/plain": [
       "array([[ 0,  1,  2],\n",
       "       [ 3,  5,  7],\n",
       "       [ 9, 12, 15]], dtype=int32)"
      ]
     },
     "execution_count": 29,
     "metadata": {},
     "output_type": "execute_result"
    }
   ],
   "source": [
    "arr.cumsum(axis=0)"
   ]
  },
  {
   "cell_type": "code",
   "execution_count": 30,
   "metadata": {},
   "outputs": [
    {
     "data": {
      "text/plain": [
       "array([[ 0,  1,  3],\n",
       "       [ 3,  7, 12],\n",
       "       [ 6, 13, 21]], dtype=int32)"
      ]
     },
     "execution_count": 30,
     "metadata": {},
     "output_type": "execute_result"
    }
   ],
   "source": [
    "arr.cumsum(axis=1)"
   ]
  },
  {
   "cell_type": "code",
   "execution_count": null,
   "metadata": {},
   "outputs": [],
   "source": []
  },
  {
   "cell_type": "markdown",
   "metadata": {},
   "source": [
    "### Methods for Boolean Arrays "
   ]
  },
  {
   "cell_type": "code",
   "execution_count": 32,
   "metadata": {},
   "outputs": [
    {
     "data": {
      "text/plain": [
       "array([ 2.23807231e+00, -6.28357148e-01,  3.22993183e-02, -2.23634073e+00,\n",
       "        9.28799849e-02,  2.23656505e-01, -9.07204492e-01, -1.42985199e+00,\n",
       "        6.99305715e-01, -1.62309699e-01, -1.74535942e-01,  1.77122553e-01,\n",
       "       -5.69235736e-01, -1.46313634e-01,  3.50066334e-01, -7.14552186e-01,\n",
       "       -1.69590562e+00, -1.48402174e+00, -8.53792861e-01,  2.78733682e-01,\n",
       "       -7.23816701e-01,  2.26510643e+00,  5.55902973e-01, -8.50133220e-01,\n",
       "        5.15703817e-01, -1.11826161e+00, -6.75881318e-02, -2.86753160e-01,\n",
       "       -4.50628702e-01,  6.03004977e-01, -3.77126476e-01,  1.52494671e+00,\n",
       "       -4.33954454e-01,  1.29341775e-01,  8.04496036e-01,  5.72533961e-01,\n",
       "        1.05844447e+00, -8.07218220e-01,  9.17699182e-01,  1.34714962e-01,\n",
       "        5.51316341e-01, -2.24837083e-01, -3.20692785e-01,  9.52734748e-04,\n",
       "        1.23061631e+00, -7.26178255e-01,  1.16175628e+00, -4.56387889e-02,\n",
       "        3.04469040e-01,  6.63066644e-01, -7.52615886e-01,  1.78712363e+00,\n",
       "       -4.72611247e-01, -9.54102199e-01,  4.93921644e-02,  5.10019348e-01,\n",
       "        1.95985589e-01,  8.56746759e-02, -1.62168515e-01, -3.48619335e-02,\n",
       "        1.90910435e+00, -1.59862522e-01, -6.49090185e-01,  9.11825295e-01,\n",
       "        1.17466151e+00, -1.41035490e+00, -5.20207653e-01,  8.84936842e-01,\n",
       "        4.36971969e-01,  3.67265688e-01, -8.58160254e-01,  8.45574391e-02,\n",
       "        1.91829840e+00,  3.08619060e-01, -1.55598201e-01,  7.21957611e-01,\n",
       "        1.43732456e+00, -4.00029358e-01,  3.27297164e-01, -1.56867576e+00,\n",
       "       -5.39950972e-01, -1.14816760e+00,  2.37304514e-01, -2.56576191e-01,\n",
       "        2.16274343e+00, -3.58400684e-01, -6.99511440e-01, -7.60044157e-01,\n",
       "       -1.07918424e+00, -1.11808092e+00, -1.67367221e+00,  7.01474754e-02,\n",
       "        9.66054083e-01, -5.75005683e-01,  3.42588134e-01, -1.59035793e+00,\n",
       "        8.91022497e-01, -7.54286045e-02, -1.13626132e+00, -4.42128440e-01])"
      ]
     },
     "execution_count": 32,
     "metadata": {},
     "output_type": "execute_result"
    }
   ],
   "source": [
    "arr = np.random.randn(100)\n",
    "arr"
   ]
  },
  {
   "cell_type": "code",
   "execution_count": 33,
   "metadata": {},
   "outputs": [
    {
     "data": {
      "text/plain": [
       "48"
      ]
     },
     "execution_count": 33,
     "metadata": {},
     "output_type": "execute_result"
    }
   ],
   "source": [
    "(arr>0).sum()"
   ]
  },
  {
   "cell_type": "code",
   "execution_count": 34,
   "metadata": {},
   "outputs": [
    {
     "data": {
      "text/plain": [
       "True"
      ]
     },
     "execution_count": 34,
     "metadata": {},
     "output_type": "execute_result"
    }
   ],
   "source": [
    "bools = np.array([False, False, True, False])\n",
    "\n",
    "bools.any()"
   ]
  },
  {
   "cell_type": "code",
   "execution_count": 35,
   "metadata": {},
   "outputs": [
    {
     "data": {
      "text/plain": [
       "False"
      ]
     },
     "execution_count": 35,
     "metadata": {},
     "output_type": "execute_result"
    }
   ],
   "source": [
    "bools.all()"
   ]
  },
  {
   "cell_type": "code",
   "execution_count": null,
   "metadata": {},
   "outputs": [],
   "source": []
  },
  {
   "cell_type": "markdown",
   "metadata": {},
   "source": [
    "### Sorting"
   ]
  },
  {
   "cell_type": "code",
   "execution_count": 36,
   "metadata": {},
   "outputs": [
    {
     "data": {
      "text/plain": [
       "array([ 2.10272612, -0.89395689, -0.17920692, -0.84894886, -1.55279802,\n",
       "        0.84618084])"
      ]
     },
     "execution_count": 36,
     "metadata": {},
     "output_type": "execute_result"
    }
   ],
   "source": [
    "arr = np.random.randn(6)\n",
    "arr"
   ]
  },
  {
   "cell_type": "code",
   "execution_count": 39,
   "metadata": {},
   "outputs": [
    {
     "data": {
      "text/plain": [
       "array([-1.55279802, -0.89395689, -0.84894886, -0.17920692,  0.84618084,\n",
       "        2.10272612])"
      ]
     },
     "execution_count": 39,
     "metadata": {},
     "output_type": "execute_result"
    }
   ],
   "source": [
    "arr.sort()\n",
    "arr"
   ]
  },
  {
   "cell_type": "code",
   "execution_count": null,
   "metadata": {},
   "outputs": [],
   "source": []
  },
  {
   "cell_type": "code",
   "execution_count": 40,
   "metadata": {},
   "outputs": [
    {
     "data": {
      "text/plain": [
       "array([[-1.22607695,  0.5066998 ,  0.12984761],\n",
       "       [-1.46767727,  0.36328575, -0.22476769],\n",
       "       [-0.58358822, -0.08669423, -1.63918102],\n",
       "       [-1.12561398,  1.12449757, -0.24324811],\n",
       "       [-1.09722288,  0.01881376,  1.15537576]])"
      ]
     },
     "execution_count": 40,
     "metadata": {},
     "output_type": "execute_result"
    }
   ],
   "source": [
    "arr = np.random.randn(5,3)\n",
    "arr"
   ]
  },
  {
   "cell_type": "code",
   "execution_count": 41,
   "metadata": {},
   "outputs": [
    {
     "data": {
      "text/plain": [
       "array([[-1.22607695,  0.12984761,  0.5066998 ],\n",
       "       [-1.46767727, -0.22476769,  0.36328575],\n",
       "       [-1.63918102, -0.58358822, -0.08669423],\n",
       "       [-1.12561398, -0.24324811,  1.12449757],\n",
       "       [-1.09722288,  0.01881376,  1.15537576]])"
      ]
     },
     "execution_count": 41,
     "metadata": {},
     "output_type": "execute_result"
    }
   ],
   "source": [
    "arr.sort(1)\n",
    "arr"
   ]
  },
  {
   "cell_type": "code",
   "execution_count": null,
   "metadata": {},
   "outputs": [],
   "source": []
  },
  {
   "cell_type": "code",
   "execution_count": 42,
   "metadata": {},
   "outputs": [
    {
     "data": {
      "text/plain": [
       "array([ 2.86514043e-01,  6.66456174e-02,  2.70842395e+00,  1.79110353e+00,\n",
       "        2.08586868e+00,  5.91063740e-01,  1.64466180e+00, -7.84802243e-01,\n",
       "       -1.42130474e+00,  1.98705838e+00,  9.42585432e-02,  1.70312172e+00,\n",
       "        6.13718222e-01,  1.04493593e-01,  1.50884436e+00, -6.57398600e-01,\n",
       "        5.92886742e-01, -1.10994710e-01, -1.31742422e+00,  2.69883463e-01,\n",
       "       -4.18349517e-01,  2.46578241e-01, -4.08237619e-01,  1.53232672e-01,\n",
       "       -4.00231175e-01, -1.01836667e+00, -7.65408909e-01, -9.94462819e-01,\n",
       "       -2.23337971e+00, -3.97257204e-01,  6.53260624e-01, -7.42382245e-01,\n",
       "       -3.95500279e-01,  4.87423191e-01, -1.41006503e+00,  3.55280903e+00,\n",
       "        7.21984409e-01, -1.33934538e+00,  1.23498323e+00, -3.69600099e-01,\n",
       "        3.14123536e-01, -2.46376008e+00, -2.64183413e+00,  1.50761482e+00,\n",
       "        1.10189157e+00,  2.11973921e+00, -3.80646465e-01,  9.78156255e-01,\n",
       "        2.35873557e-01, -8.23768417e-01,  8.69008402e-02,  1.52552233e+00,\n",
       "        9.33526196e-01,  1.82258119e+00,  9.01572817e-01, -5.81903383e-01,\n",
       "       -9.36849718e-01, -4.04297802e-01,  7.24065966e-01, -1.39605539e+00,\n",
       "       -4.09912608e-01,  6.70997893e-01,  1.44922101e+00, -3.93911922e-02,\n",
       "        5.96203615e-02, -3.94324142e-01, -6.28313049e-01, -1.30735867e+00,\n",
       "        4.45632039e-01,  8.78356398e-01,  2.54201340e+00, -3.59323441e-01,\n",
       "        7.45194817e-01,  1.73362040e-02, -3.24832607e-01, -6.59131021e-01,\n",
       "        1.20611297e+00,  1.02415284e+00, -4.92199158e-01, -7.99329595e-01,\n",
       "        5.56709746e-01,  1.19156697e+00, -4.63352391e-01,  5.40022897e-01,\n",
       "       -1.16794023e-01, -3.40103878e-01,  1.04170101e+00, -6.68843252e-01,\n",
       "        2.09740620e-01,  1.27717095e+00, -2.35142349e+00,  2.52411308e-01,\n",
       "        1.29966018e+00,  2.40582302e-01,  5.14541979e-01,  1.13732533e+00,\n",
       "        6.65924310e-01,  1.89590822e-01,  2.05702193e+00, -7.36730976e-01,\n",
       "        2.19299621e+00,  1.76592531e+00,  4.88144220e-01, -1.34153096e+00,\n",
       "       -7.86956213e-01, -8.57257222e-02,  1.92572712e+00, -6.94676775e-01,\n",
       "       -1.95870344e-02, -5.48457186e-01, -4.53041767e-02,  1.62309014e-01,\n",
       "        2.51018037e+00,  7.37011288e-01,  9.88220132e-02,  1.77981587e-01,\n",
       "       -1.24790159e-01, -1.65066225e-01, -1.69505052e-01,  4.80503863e-01,\n",
       "        2.10049527e-01,  2.31451229e-01,  1.03725743e+00,  1.45612485e+00,\n",
       "       -1.50449776e+00, -6.11840572e-01,  6.11579655e-01, -3.47181677e-02,\n",
       "       -1.59491291e+00,  5.06015996e-01,  1.00785215e+00, -1.03328911e-01,\n",
       "       -6.05811856e-01,  1.72927564e+00,  1.11302867e+00, -5.64917480e-01,\n",
       "       -7.64114974e-01, -6.29665275e-01,  1.72947173e+00,  1.19199134e-01,\n",
       "        1.60172449e-01,  1.18163310e+00,  2.32585998e-01,  5.45734132e-02,\n",
       "       -1.29547434e+00, -1.65825290e-01, -9.28614287e-01, -9.26481313e-01,\n",
       "        1.09755551e+00, -7.35618789e-01, -5.87838475e-01, -1.64584550e+00,\n",
       "        2.25877968e-01,  1.92302507e+00,  6.94570519e-01, -7.25848400e-01,\n",
       "       -1.40267661e+00, -3.97256278e-01, -1.79269677e+00, -1.00595881e+00,\n",
       "        1.65469822e-01, -1.35234192e-01, -6.15453918e-01, -8.70658007e-01,\n",
       "        1.53669330e-02, -1.65280991e-01, -1.02436407e+00, -2.25377471e-01,\n",
       "        2.42363134e+00, -6.10260021e-01, -1.15754365e+00,  1.74728171e-01,\n",
       "       -1.05562978e+00,  1.04080253e+00, -2.93642102e-01,  2.23355137e+00,\n",
       "        9.87747082e-02,  1.15082958e+00, -1.83744844e+00,  7.19095119e-01,\n",
       "        2.92999144e+00,  8.04973333e-02,  3.29819202e-02,  9.30890267e-01,\n",
       "        3.44451216e-01,  1.00802786e-01, -1.03829351e+00, -1.31764657e+00,\n",
       "       -3.81544466e-01,  3.62106328e-01, -3.63361364e-01, -1.27562713e-01,\n",
       "        1.55881394e-01,  6.21619097e-01, -9.65013251e-01,  7.02064665e-01,\n",
       "       -1.68503672e+00,  3.93449189e-02, -1.22490855e+00, -1.43540227e-01,\n",
       "       -1.28578588e+00, -1.64958253e-01, -1.48975213e+00, -1.97920260e+00,\n",
       "       -1.49282610e+00,  1.73223382e+00, -1.40109605e-01, -1.46402927e+00,\n",
       "        1.04071875e+00, -9.40312299e-01,  2.07292233e+00, -2.13086952e-01,\n",
       "        7.10076154e-01, -6.57078403e-02,  1.27737180e+00, -1.20510968e+00,\n",
       "       -2.43113212e+00,  7.49461818e-01,  3.08105809e-01, -1.81600133e-01,\n",
       "        1.67402572e+00,  5.93642885e-01,  6.50514848e-01, -7.41452558e-01,\n",
       "       -5.92858252e-01, -3.14309825e+00, -8.17183046e-01,  1.14573253e-01,\n",
       "        5.45313633e-01,  1.26376764e-01, -9.86068910e-01, -1.58069103e-01,\n",
       "        6.00144089e-01, -6.93666092e-01,  5.68184236e-02,  2.07081798e-01,\n",
       "        7.33777342e-01,  5.10354514e-01,  2.34836841e-01, -1.09207495e+00,\n",
       "        1.50224033e+00, -3.31246564e-01, -1.38247340e-01, -1.65797829e+00,\n",
       "        4.21751708e-01, -1.50582101e+00, -1.64399413e+00,  1.17626307e+00,\n",
       "        4.89055352e-01,  1.04116600e+00,  3.42870363e-01, -9.92291794e-01,\n",
       "       -2.91389353e-01,  1.36570367e+00, -1.66878575e+00, -1.73669477e+00,\n",
       "        2.76010869e+00,  3.97312991e-01,  3.61203775e-01, -9.71255152e-01,\n",
       "       -4.93355366e-01,  6.34501814e-01,  3.79018052e-01,  4.62403717e-01,\n",
       "       -1.91573711e+00,  5.15414976e-01, -7.24281474e-01, -7.63146904e-02,\n",
       "       -1.46071138e+00,  6.57408841e-01,  8.04062163e-01,  1.30307189e+00,\n",
       "        8.61530594e-01,  4.02430149e-01, -4.24875257e-01, -1.54378857e-02,\n",
       "       -1.05450561e-01, -3.32762990e-01, -9.77796414e-01,  1.12884270e-01,\n",
       "       -1.29428231e+00, -6.19029154e-01,  5.01663618e-01,  9.50875205e-01,\n",
       "       -4.30343959e-01,  1.27381689e+00, -9.88129006e-01, -4.97327225e-01,\n",
       "       -4.98816657e-01, -4.24917151e-03,  1.79983562e+00,  4.23273797e-01,\n",
       "       -6.26246780e-01, -1.58578059e+00, -2.15871249e+00,  3.55428596e-01,\n",
       "        1.35464148e-01, -9.15380854e-01,  1.08091184e+00,  1.68266277e+00,\n",
       "       -8.46689776e-01,  3.96233212e+00,  1.70866852e+00,  9.41321310e-01,\n",
       "       -8.22324419e-01, -9.71809452e-01,  7.12960823e-01, -1.49053565e+00,\n",
       "       -1.21969978e+00,  8.63744425e-01, -7.62724397e-01,  3.15786401e-01,\n",
       "       -7.00833450e-01, -1.73058668e-01,  5.36937540e-02, -1.56887247e+00,\n",
       "        1.43741352e+00,  1.57072599e+00,  6.80291393e-01, -1.80633973e+00,\n",
       "       -2.64520159e-01,  9.31639819e-01,  6.96419460e-03,  8.14963655e-01,\n",
       "       -2.08824474e-01,  7.41956844e-01,  5.22773847e-01,  8.62661195e-01,\n",
       "        1.10557416e+00, -1.46961745e+00,  1.20032231e+00, -7.49693258e-01,\n",
       "       -1.14783124e+00,  1.05315676e+00, -1.00710884e+00,  2.09392409e+00,\n",
       "       -4.73909143e-01, -5.38866827e-01, -4.10787198e-01,  6.15408456e-01,\n",
       "       -9.04318827e-01,  7.45408299e-01, -1.06054095e+00,  8.94629915e-01,\n",
       "       -7.07613548e-01,  1.25366157e+00,  1.38722879e+00,  1.39825380e+00,\n",
       "       -3.38050515e-01, -9.58235952e-01, -7.66111293e-01,  8.46995431e-01,\n",
       "       -3.09672018e-01, -1.19916282e+00, -8.50907194e-01,  3.96904994e-01,\n",
       "        1.50919050e+00,  2.96410289e-01, -6.63814273e-01, -2.18687427e+00,\n",
       "        4.97608417e-01, -8.36784504e-02,  1.69495994e-01,  6.81727260e-01,\n",
       "       -2.73628226e-01, -7.99850860e-01, -1.32220078e+00,  6.73195623e-01,\n",
       "       -1.93875491e+00,  1.06151285e-01,  5.64687700e-01, -1.01837160e+00,\n",
       "        1.00284900e-01,  1.12021924e+00, -1.26160287e+00, -7.57357209e-01,\n",
       "       -2.28208015e-01, -2.95454711e+00, -5.50673251e-03,  6.23832596e-01,\n",
       "       -1.08622529e+00, -3.50817708e-01,  4.97659869e-01,  3.38587897e-01,\n",
       "        8.07915650e-01, -4.49245648e-01, -8.08114418e-01, -2.20815090e-01,\n",
       "        5.99002890e-01, -1.37037441e+00, -4.92206898e-01, -1.89491975e+00,\n",
       "       -8.84923550e-02, -4.21058049e-01,  9.64349851e-01,  2.77890097e-01,\n",
       "       -5.19104908e-01,  3.62518660e-01,  8.44713545e-01,  1.67407901e+00,\n",
       "       -2.60703168e-01,  3.87589279e-02,  1.76297137e-01,  4.74194317e-01,\n",
       "       -1.78469473e+00,  5.42274772e-01, -9.89563255e-01, -1.38017168e+00,\n",
       "        3.90785878e-02,  6.14988281e-01, -1.09966100e+00,  8.27682787e-02,\n",
       "       -2.07036453e-01, -2.09290832e+00,  9.14153325e-01, -1.56476600e+00,\n",
       "        1.43715839e+00,  2.12738820e-01, -1.87019075e+00,  5.50741727e-01,\n",
       "        9.96286670e-01,  8.94045836e-01, -8.42940615e-01,  2.22699124e-01,\n",
       "        3.01522940e-01, -1.58219453e+00, -2.54099758e-02,  2.32939453e-01,\n",
       "       -1.74458155e+00, -1.24743134e+00, -1.22090236e-01, -4.50178492e-01,\n",
       "       -6.97775910e-01, -8.00278472e-01,  1.88031590e+00, -2.38543177e+00,\n",
       "       -1.77215231e+00,  1.80401309e+00,  2.86986694e+00,  3.00097764e-01,\n",
       "        1.94442286e+00, -5.29026664e-01, -2.72383610e-02, -2.97633399e+00,\n",
       "        1.27571205e+00, -6.98391510e-01,  6.46638707e-01,  7.96662147e-01,\n",
       "        9.97672417e-01, -1.50487442e+00,  6.78313474e-01, -1.47523600e+00,\n",
       "       -5.58377533e-01, -4.77910293e-01, -1.21992293e+00,  2.75652297e-01,\n",
       "       -8.06505561e-01,  8.17804609e-01,  3.74565391e-01,  9.38021251e-01,\n",
       "        2.47094471e-01,  9.03340155e-01, -7.36939388e-01, -2.43861171e-01,\n",
       "       -8.13747334e-02,  6.11755269e-01, -1.81555424e+00,  1.08462242e+00,\n",
       "        7.55830395e-01, -2.36498110e+00,  7.29914430e-01, -1.95608738e-01,\n",
       "       -1.82938890e+00,  6.35506333e-01, -5.71287957e-01,  1.21553009e+00,\n",
       "       -1.19162141e+00,  1.13849798e+00, -1.73103885e+00,  7.69875426e-01,\n",
       "       -1.29450102e+00,  1.81452722e-01,  8.68235383e-01, -7.82264229e-01,\n",
       "       -6.55234617e-01,  1.01623450e+00, -2.19167851e+00, -7.38388678e-01,\n",
       "        1.37202869e+00,  1.61738322e-01, -2.39771469e+00, -2.97637417e-01,\n",
       "       -8.05391261e-01, -5.83977935e-01,  1.32460136e+00, -3.05994351e-01,\n",
       "       -8.80218144e-01, -1.88313396e-02, -6.10277744e-01,  4.47277580e-01,\n",
       "       -8.62083276e-01, -6.34207631e-01,  1.87933867e+00,  1.27352362e+00,\n",
       "        9.56601234e-01,  1.26470360e-01, -8.67588124e-01,  1.28831135e+00,\n",
       "        3.14163975e-01,  5.25413363e-01,  1.64316693e+00, -5.19408529e-01,\n",
       "        2.65876320e-04, -8.15352209e-02,  6.10585862e-01,  2.41494485e-01,\n",
       "       -1.78393496e-01, -7.11721129e-01,  8.65259606e-02,  4.58127924e-01,\n",
       "       -3.41440174e-01, -1.38970646e+00,  7.04910763e-01, -1.98708016e+00,\n",
       "        1.98079346e+00,  4.01050641e-01, -6.80675263e-01, -3.22200495e-02,\n",
       "       -2.60701697e-01, -1.15248400e+00, -2.07067545e+00,  1.83578522e-01,\n",
       "       -6.07584746e-01, -5.46553275e-01, -1.31345948e+00,  3.30115023e-01,\n",
       "       -9.50684965e-02,  2.63336005e-01, -3.46687741e-01, -9.41277088e-02,\n",
       "       -1.36150156e+00,  2.70982918e-01,  5.50639762e-01, -1.92998939e+00,\n",
       "        1.89497135e-01,  2.80653830e-01,  1.35088538e+00, -1.87835201e+00,\n",
       "       -5.01886821e-02,  5.71169738e-01,  1.84774515e-01,  1.96719473e+00,\n",
       "       -2.35824233e-02,  7.54859053e-01,  1.62494448e+00, -7.93818934e-01,\n",
       "       -7.46773204e-01, -1.70741216e-02, -9.78279216e-01, -6.58579457e-01,\n",
       "        4.02010717e-01,  4.56006613e-01, -7.92977656e-01,  1.61881668e-01,\n",
       "        2.26366055e-02,  2.58221899e-01,  6.39861474e-01,  1.48076680e+00,\n",
       "       -8.52506716e-01, -1.24171998e+00,  3.99704338e-01,  8.50004479e-01,\n",
       "       -5.67555754e-01, -2.82461271e-02,  1.92602976e+00, -3.55114447e-01,\n",
       "       -2.50670146e-02,  1.00053339e+00,  1.95873743e+00, -2.59174337e-01,\n",
       "       -6.94999934e-01, -1.67278452e+00,  2.53498471e+00,  3.01122917e-01,\n",
       "        9.85328955e-01, -1.49870663e-01, -5.42308019e-01, -1.46804805e-01,\n",
       "       -1.08900617e+00, -1.43088193e-01, -1.46589488e+00,  7.43528141e-02,\n",
       "       -4.82897212e-01,  3.51798992e-01,  2.28920991e+00, -1.75252886e+00,\n",
       "        1.42054236e+00, -2.63657428e-01, -1.29734469e+00, -1.13038111e+00,\n",
       "       -1.77287816e+00,  1.48230740e+00, -3.57409861e-01,  1.49844410e+00,\n",
       "       -2.82915930e-01,  1.62917160e-01, -1.68103409e-01, -5.93840056e-01,\n",
       "       -3.43129176e-01,  9.02589589e-01,  6.68405300e-01, -2.76867595e-01,\n",
       "       -1.09355069e+00, -5.74360305e-01,  4.49914193e-01, -8.69777543e-01,\n",
       "        1.19090992e+00, -1.79137803e+00,  8.96902669e-01,  3.56817037e-01,\n",
       "       -7.49711779e-01,  1.88665015e+00,  1.64178912e+00,  6.28174716e-02,\n",
       "        5.07520039e-01, -1.22064178e+00, -7.75986066e-01, -1.35515928e-01,\n",
       "        1.81721365e+00,  9.02827405e-01, -3.33811244e-01,  6.21829904e-01,\n",
       "        1.97044050e-01,  4.03439272e-01, -1.10216892e+00, -1.66358255e+00,\n",
       "        1.51977032e+00,  8.54407449e-01,  8.42437222e-02,  3.72136844e-01,\n",
       "        2.15671608e+00,  1.93962993e+00, -1.01900281e+00,  1.94018758e+00,\n",
       "        1.36875260e-01, -2.30038636e-01, -3.03462570e-01,  2.38643067e+00,\n",
       "        7.95282155e-02, -5.40974985e-01,  1.48851804e+00,  1.38138428e+00,\n",
       "        8.62509492e-02, -5.31211329e-01, -9.36764941e-01, -1.87523960e+00,\n",
       "       -2.74915988e-01, -3.29035577e-01,  2.45477953e-01,  3.36085412e-01,\n",
       "        1.91992333e+00,  2.01530163e+00, -4.93593273e-01,  2.30347023e+00,\n",
       "       -1.04471379e+00,  5.04450407e-01, -5.95738090e-01,  4.37768748e-01,\n",
       "       -1.22823529e+00, -7.03113912e-02, -3.50950946e-01, -7.35399688e-02,\n",
       "       -3.88964072e-01, -2.87500733e-03, -6.50882579e-01,  5.02967409e-01,\n",
       "       -1.17645184e+00, -8.01699862e-01,  2.53957320e+00,  8.76060649e-01,\n",
       "        5.59825923e-02,  1.40873651e-01, -1.41294766e+00,  1.22428911e+00,\n",
       "        1.34497596e-01,  7.19703238e-01,  1.29394809e+00,  1.54167198e-02,\n",
       "        2.99136502e-01,  9.20749808e-01,  8.06597299e-01,  7.55120083e-01,\n",
       "       -7.79870661e-01,  6.54004164e-01, -1.79743887e+00,  2.05259938e+00,\n",
       "       -3.38899045e-01,  4.71493500e-01,  8.09441951e-01, -1.31445421e+00,\n",
       "       -1.79818362e+00,  1.27993281e+00, -3.63438566e-02,  8.66907546e-02,\n",
       "        1.42107527e+00,  9.25161765e-01,  1.65592890e+00, -4.63180552e-01,\n",
       "       -2.46566327e-01,  1.74551371e-01, -1.05725667e-01, -6.01921775e-01,\n",
       "       -4.29558723e-01,  8.44356684e-02,  4.54105509e-01,  1.93680361e+00,\n",
       "       -1.14267763e+00,  1.27001346e+00, -6.89238787e-01, -1.08470574e-01,\n",
       "       -3.59459250e-01, -8.87443215e-01, -7.61648595e-01, -9.13418256e-01,\n",
       "        8.19616566e-01, -1.05493863e+00,  7.51493324e-01,  1.17769874e+00,\n",
       "       -1.22584316e+00,  9.57189557e-01,  1.17093015e+00, -1.93663263e-01,\n",
       "        1.08226442e+00,  1.23524565e+00, -5.44069903e-01,  1.00722130e+00,\n",
       "       -7.94886560e-01,  6.47613630e-01, -3.56442747e-01, -6.81961409e-01,\n",
       "        1.82857432e-01,  9.29397783e-02,  4.71892477e-01, -4.29411307e-02,\n",
       "        8.44631106e-01,  9.70339001e-01,  1.73818169e+00,  1.72492172e+00,\n",
       "        8.52016171e-01,  5.23113895e-01, -6.13041722e-01,  1.89358937e+00,\n",
       "        1.28700602e+00,  1.03347581e+00, -1.35425973e+00,  2.51959246e-01,\n",
       "       -2.59852770e-01,  1.37972501e+00,  2.83766490e-01,  7.10857938e-01,\n",
       "       -6.33785018e-01, -3.88506041e-01, -6.69143724e-01, -7.72206709e-01,\n",
       "        8.16415948e-01, -1.70058269e+00,  1.42548823e-01,  1.53607713e+00,\n",
       "        1.36517510e+00, -2.05728631e-01,  1.22077133e+00,  5.95860571e-01,\n",
       "       -9.63638641e-01,  1.96972119e+00, -2.23075616e+00, -1.96345773e-01,\n",
       "        2.18171269e-01,  9.25426619e-01,  1.24496035e-01, -5.71651770e-01,\n",
       "       -4.56055790e-01,  6.87052374e-01,  8.05979290e-01,  5.46217701e-01,\n",
       "        8.49549206e-02,  1.49883671e+00, -1.46306295e-01,  2.00809037e+00,\n",
       "        4.31540047e-01,  6.89964710e-01,  1.28612869e+00, -1.73662923e-02,\n",
       "        1.42142981e+00,  1.68561038e+00, -1.46325226e+00, -6.65779558e-01,\n",
       "       -2.99275417e+00,  5.11616582e-01,  2.18811857e+00,  2.78592196e-02,\n",
       "       -8.79617147e-01, -1.09088198e+00, -4.03086523e-01,  6.81712709e-02,\n",
       "        5.20025971e-01, -3.50217273e-01,  1.63118283e+00, -2.73430098e-01,\n",
       "       -2.52454877e-01,  1.05656298e+00,  3.71413536e-01, -2.40278076e+00,\n",
       "       -5.69430670e-01,  1.88349996e+00,  4.36208745e-01,  4.41378394e-02,\n",
       "       -2.10296643e-01,  5.41019497e-01,  6.55325567e-01, -5.79062122e-02,\n",
       "        6.93483320e-01, -1.66893920e+00, -5.33446899e-02,  1.51656768e+00,\n",
       "        1.35570526e+00,  1.38265383e+00,  9.73459897e-01,  1.23747497e+00,\n",
       "       -1.59046356e+00, -4.58480058e-01,  3.81059723e-01, -6.35392982e-01,\n",
       "       -1.31482587e+00, -2.71692528e+00,  8.74934854e-01, -2.77955617e-01,\n",
       "        2.24930826e+00,  2.11167586e-01, -7.20467725e-01, -5.13120797e-01,\n",
       "       -6.13230733e-01,  1.37580671e+00,  3.96609316e-01, -6.23870824e-01,\n",
       "        3.97230078e-01, -7.59476077e-01, -1.46647641e+00, -4.25645690e-02,\n",
       "        8.91674195e-01, -5.74106823e-01, -2.03618518e+00,  1.58531661e+00,\n",
       "       -1.32217909e+00,  1.12233877e+00,  9.65536048e-01, -6.58844983e-01,\n",
       "        2.01159234e+00,  1.21838235e+00, -6.26386590e-01, -1.19754687e+00,\n",
       "       -4.79440421e-01, -1.62525773e+00, -1.43090078e+00, -3.30809900e-01,\n",
       "        4.62923876e-01,  3.31178342e-01,  4.84033176e-01, -1.06194543e-01,\n",
       "        2.05998654e+00, -6.13255075e-01,  1.08151193e+00, -1.50133945e+00,\n",
       "        5.80927593e-01, -4.16769243e-02, -7.33099444e-02, -4.34350906e-01,\n",
       "       -4.91046954e-01,  3.29579319e-01, -1.27128335e+00,  2.90474864e-01,\n",
       "       -2.60633358e+00,  9.96576518e-01, -1.41874599e+00, -5.46710542e-01,\n",
       "        4.25965566e-01, -4.60218222e-01,  4.55885061e-01,  9.22253619e-01,\n",
       "        6.38710953e-01, -1.01044404e+00,  1.18822421e-01, -6.47848202e-01,\n",
       "       -4.60355675e-02,  1.95996126e-01,  6.16135122e-01,  8.51844958e-02,\n",
       "        9.80284498e-02, -3.52990057e-01, -1.73689586e+00, -1.74515762e+00,\n",
       "       -1.09971051e+00, -2.35122895e+00,  1.09264603e+00,  7.68268673e-01,\n",
       "        7.91950244e-01, -1.56369287e+00,  1.55256213e+00, -1.38271388e+00,\n",
       "       -3.86595471e-01,  1.52273098e-01, -3.05726997e-01, -6.80926830e-01,\n",
       "       -1.55547355e+00, -1.96509753e+00, -5.17919713e-01,  3.47017344e-01,\n",
       "       -5.09064244e-01, -7.80649332e-01, -7.87706796e-01, -9.39738287e-01,\n",
       "        1.25728014e+00, -1.79066077e+00,  8.54722256e-01,  2.84451438e-01,\n",
       "        1.35022859e+00,  6.64562520e-01, -4.58437920e-01, -5.98221744e-01,\n",
       "        9.30749796e-01,  2.11758152e-03,  9.66223109e-01, -3.56217599e-01,\n",
       "        1.30718610e+00, -1.83571534e+00,  1.12503332e+00, -2.39268359e-01,\n",
       "       -5.93590156e-01,  8.94499093e-01, -1.34551979e-01, -2.17724121e-01,\n",
       "        1.43179624e+00,  3.61709719e-01, -9.04076982e-01, -2.28917396e+00,\n",
       "        3.74393563e-01, -8.57788250e-01, -2.22297825e+00, -2.18670355e-01,\n",
       "        5.75327364e-01,  2.59556242e-01,  4.31230743e-01, -1.44581879e+00,\n",
       "       -6.39915081e-01, -1.04526262e+00,  4.34276250e-01,  7.77089481e-02,\n",
       "       -1.33206523e+00,  2.88036315e-01, -3.67835820e-01, -4.79387452e-01,\n",
       "        3.29098888e-01, -9.87063100e-02, -4.72200269e-01, -9.67725376e-01,\n",
       "        1.39375363e-01, -1.25025554e+00, -1.61781759e+00, -2.19388758e-01,\n",
       "        3.89575588e-01,  3.82426901e-01, -1.62690589e+00, -4.72134189e-01,\n",
       "       -1.53958565e+00, -1.54994538e-01,  6.88947937e-02,  5.02475716e-01,\n",
       "       -4.33931964e-01,  5.29092182e-01, -8.33745754e-01,  1.14544353e+00,\n",
       "       -1.01693150e+00, -1.10943936e-01, -4.87868470e-01,  3.81776425e-01,\n",
       "        8.31532710e-01,  1.08594434e-01,  1.59070683e+00, -3.91604637e-01,\n",
       "       -8.71553221e-01, -1.16028052e+00,  7.31950048e-01, -2.06484858e+00,\n",
       "        2.90968170e-01, -2.45891155e-01,  6.59575875e-01,  1.53410305e+00,\n",
       "        1.28001834e-01,  3.12082913e+00,  1.70929709e+00,  1.24192402e+00])"
      ]
     },
     "execution_count": 42,
     "metadata": {},
     "output_type": "execute_result"
    }
   ],
   "source": [
    "large_arr = np.random.randn(1000)\n",
    "\n",
    "large_arr"
   ]
  },
  {
   "cell_type": "raw",
   "metadata": {},
   "source": []
  },
  {
   "cell_type": "code",
   "execution_count": 44,
   "metadata": {},
   "outputs": [
    {
     "data": {
      "text/plain": [
       "array([-3.14309825e+00, -2.99275417e+00, -2.97633399e+00, -2.95454711e+00,\n",
       "       -2.71692528e+00, -2.64183413e+00, -2.60633358e+00, -2.46376008e+00,\n",
       "       -2.43113212e+00, -2.40278076e+00, -2.39771469e+00, -2.38543177e+00,\n",
       "       -2.36498110e+00, -2.35142349e+00, -2.35122895e+00, -2.28917396e+00,\n",
       "       -2.23337971e+00, -2.23075616e+00, -2.22297825e+00, -2.19167851e+00,\n",
       "       -2.18687427e+00, -2.15871249e+00, -2.09290832e+00, -2.07067545e+00,\n",
       "       -2.06484858e+00, -2.03618518e+00, -1.98708016e+00, -1.97920260e+00,\n",
       "       -1.96509753e+00, -1.93875491e+00, -1.92998939e+00, -1.91573711e+00,\n",
       "       -1.89491975e+00, -1.87835201e+00, -1.87523960e+00, -1.87019075e+00,\n",
       "       -1.83744844e+00, -1.83571534e+00, -1.82938890e+00, -1.81555424e+00,\n",
       "       -1.80633973e+00, -1.79818362e+00, -1.79743887e+00, -1.79269677e+00,\n",
       "       -1.79137803e+00, -1.79066077e+00, -1.78469473e+00, -1.77287816e+00,\n",
       "       -1.77215231e+00, -1.75252886e+00, -1.74515762e+00, -1.74458155e+00,\n",
       "       -1.73689586e+00, -1.73669477e+00, -1.73103885e+00, -1.70058269e+00,\n",
       "       -1.68503672e+00, -1.67278452e+00, -1.66893920e+00, -1.66878575e+00,\n",
       "       -1.66358255e+00, -1.65797829e+00, -1.64584550e+00, -1.64399413e+00,\n",
       "       -1.62690589e+00, -1.62525773e+00, -1.61781759e+00, -1.59491291e+00,\n",
       "       -1.59046356e+00, -1.58578059e+00, -1.58219453e+00, -1.56887247e+00,\n",
       "       -1.56476600e+00, -1.56369287e+00, -1.55547355e+00, -1.53958565e+00,\n",
       "       -1.50582101e+00, -1.50487442e+00, -1.50449776e+00, -1.50133945e+00,\n",
       "       -1.49282610e+00, -1.49053565e+00, -1.48975213e+00, -1.47523600e+00,\n",
       "       -1.46961745e+00, -1.46647641e+00, -1.46589488e+00, -1.46402927e+00,\n",
       "       -1.46325226e+00, -1.46071138e+00, -1.44581879e+00, -1.43090078e+00,\n",
       "       -1.42130474e+00, -1.41874599e+00, -1.41294766e+00, -1.41006503e+00,\n",
       "       -1.40267661e+00, -1.39605539e+00, -1.38970646e+00, -1.38271388e+00,\n",
       "       -1.38017168e+00, -1.37037441e+00, -1.36150156e+00, -1.35425973e+00,\n",
       "       -1.34153096e+00, -1.33934538e+00, -1.33206523e+00, -1.32220078e+00,\n",
       "       -1.32217909e+00, -1.31764657e+00, -1.31742422e+00, -1.31482587e+00,\n",
       "       -1.31445421e+00, -1.31345948e+00, -1.30735867e+00, -1.29734469e+00,\n",
       "       -1.29547434e+00, -1.29450102e+00, -1.29428231e+00, -1.28578588e+00,\n",
       "       -1.27128335e+00, -1.26160287e+00, -1.25025554e+00, -1.24743134e+00,\n",
       "       -1.24171998e+00, -1.22823529e+00, -1.22584316e+00, -1.22490855e+00,\n",
       "       -1.22064178e+00, -1.21992293e+00, -1.21969978e+00, -1.20510968e+00,\n",
       "       -1.19916282e+00, -1.19754687e+00, -1.19162141e+00, -1.17645184e+00,\n",
       "       -1.16028052e+00, -1.15754365e+00, -1.15248400e+00, -1.14783124e+00,\n",
       "       -1.14267763e+00, -1.13038111e+00, -1.10216892e+00, -1.09971051e+00,\n",
       "       -1.09966100e+00, -1.09355069e+00, -1.09207495e+00, -1.09088198e+00,\n",
       "       -1.08900617e+00, -1.08622529e+00, -1.06054095e+00, -1.05562978e+00,\n",
       "       -1.05493863e+00, -1.04526262e+00, -1.04471379e+00, -1.03829351e+00,\n",
       "       -1.02436407e+00, -1.01900281e+00, -1.01837160e+00, -1.01836667e+00,\n",
       "       -1.01693150e+00, -1.01044404e+00, -1.00710884e+00, -1.00595881e+00,\n",
       "       -9.94462819e-01, -9.92291794e-01, -9.89563255e-01, -9.88129006e-01,\n",
       "       -9.86068910e-01, -9.78279216e-01, -9.77796414e-01, -9.71809452e-01,\n",
       "       -9.71255152e-01, -9.67725376e-01, -9.65013251e-01, -9.63638641e-01,\n",
       "       -9.58235952e-01, -9.40312299e-01, -9.39738287e-01, -9.36849718e-01,\n",
       "       -9.36764941e-01, -9.28614287e-01, -9.26481313e-01, -9.15380854e-01,\n",
       "       -9.13418256e-01, -9.04318827e-01, -9.04076982e-01, -8.87443215e-01,\n",
       "       -8.80218144e-01, -8.79617147e-01, -8.71553221e-01, -8.70658007e-01,\n",
       "       -8.69777543e-01, -8.67588124e-01, -8.62083276e-01, -8.57788250e-01,\n",
       "       -8.52506716e-01, -8.50907194e-01, -8.46689776e-01, -8.42940615e-01,\n",
       "       -8.33745754e-01, -8.23768417e-01, -8.22324419e-01, -8.17183046e-01,\n",
       "       -8.08114418e-01, -8.06505561e-01, -8.05391261e-01, -8.01699862e-01,\n",
       "       -8.00278472e-01, -7.99850860e-01, -7.99329595e-01, -7.94886560e-01,\n",
       "       -7.93818934e-01, -7.92977656e-01, -7.87706796e-01, -7.86956213e-01,\n",
       "       -7.84802243e-01, -7.82264229e-01, -7.80649332e-01, -7.79870661e-01,\n",
       "       -7.75986066e-01, -7.72206709e-01, -7.66111293e-01, -7.65408909e-01,\n",
       "       -7.64114974e-01, -7.62724397e-01, -7.61648595e-01, -7.59476077e-01,\n",
       "       -7.57357209e-01, -7.49711779e-01, -7.49693258e-01, -7.46773204e-01,\n",
       "       -7.42382245e-01, -7.41452558e-01, -7.38388678e-01, -7.36939388e-01,\n",
       "       -7.36730976e-01, -7.35618789e-01, -7.25848400e-01, -7.24281474e-01,\n",
       "       -7.20467725e-01, -7.11721129e-01, -7.07613548e-01, -7.00833450e-01,\n",
       "       -6.98391510e-01, -6.97775910e-01, -6.94999934e-01, -6.94676775e-01,\n",
       "       -6.93666092e-01, -6.89238787e-01, -6.81961409e-01, -6.80926830e-01,\n",
       "       -6.80675263e-01, -6.69143724e-01, -6.68843252e-01, -6.65779558e-01,\n",
       "       -6.63814273e-01, -6.59131021e-01, -6.58844983e-01, -6.58579457e-01,\n",
       "       -6.57398600e-01, -6.55234617e-01, -6.50882579e-01, -6.47848202e-01,\n",
       "       -6.39915081e-01, -6.35392982e-01, -6.34207631e-01, -6.33785018e-01,\n",
       "       -6.29665275e-01, -6.28313049e-01, -6.26386590e-01, -6.26246780e-01,\n",
       "       -6.23870824e-01, -6.19029154e-01, -6.15453918e-01, -6.13255075e-01,\n",
       "       -6.13230733e-01, -6.13041722e-01, -6.11840572e-01, -6.10277744e-01,\n",
       "       -6.10260021e-01, -6.07584746e-01, -6.05811856e-01, -6.01921775e-01,\n",
       "       -5.98221744e-01, -5.95738090e-01, -5.93840056e-01, -5.93590156e-01,\n",
       "       -5.92858252e-01, -5.87838475e-01, -5.83977935e-01, -5.81903383e-01,\n",
       "       -5.74360305e-01, -5.74106823e-01, -5.71651770e-01, -5.71287957e-01,\n",
       "       -5.69430670e-01, -5.67555754e-01, -5.64917480e-01, -5.58377533e-01,\n",
       "       -5.48457186e-01, -5.46710542e-01, -5.46553275e-01, -5.44069903e-01,\n",
       "       -5.42308019e-01, -5.40974985e-01, -5.38866827e-01, -5.31211329e-01,\n",
       "       -5.29026664e-01, -5.19408529e-01, -5.19104908e-01, -5.17919713e-01,\n",
       "       -5.13120797e-01, -5.09064244e-01, -4.98816657e-01, -4.97327225e-01,\n",
       "       -4.93593273e-01, -4.93355366e-01, -4.92206898e-01, -4.92199158e-01,\n",
       "       -4.91046954e-01, -4.87868470e-01, -4.82897212e-01, -4.79440421e-01,\n",
       "       -4.79387452e-01, -4.77910293e-01, -4.73909143e-01, -4.72200269e-01,\n",
       "       -4.72134189e-01, -4.63352391e-01, -4.63180552e-01, -4.60218222e-01,\n",
       "       -4.58480058e-01, -4.58437920e-01, -4.56055790e-01, -4.50178492e-01,\n",
       "       -4.49245648e-01, -4.34350906e-01, -4.33931964e-01, -4.30343959e-01,\n",
       "       -4.29558723e-01, -4.24875257e-01, -4.21058049e-01, -4.18349517e-01,\n",
       "       -4.10787198e-01, -4.09912608e-01, -4.08237619e-01, -4.04297802e-01,\n",
       "       -4.03086523e-01, -4.00231175e-01, -3.97257204e-01, -3.97256278e-01,\n",
       "       -3.95500279e-01, -3.94324142e-01, -3.91604637e-01, -3.88964072e-01,\n",
       "       -3.88506041e-01, -3.86595471e-01, -3.81544466e-01, -3.80646465e-01,\n",
       "       -3.69600099e-01, -3.67835820e-01, -3.63361364e-01, -3.59459250e-01,\n",
       "       -3.59323441e-01, -3.57409861e-01, -3.56442747e-01, -3.56217599e-01,\n",
       "       -3.55114447e-01, -3.52990057e-01, -3.50950946e-01, -3.50817708e-01,\n",
       "       -3.50217273e-01, -3.46687741e-01, -3.43129176e-01, -3.41440174e-01,\n",
       "       -3.40103878e-01, -3.38899045e-01, -3.38050515e-01, -3.33811244e-01,\n",
       "       -3.32762990e-01, -3.31246564e-01, -3.30809900e-01, -3.29035577e-01,\n",
       "       -3.24832607e-01, -3.09672018e-01, -3.05994351e-01, -3.05726997e-01,\n",
       "       -3.03462570e-01, -2.97637417e-01, -2.93642102e-01, -2.91389353e-01,\n",
       "       -2.82915930e-01, -2.77955617e-01, -2.76867595e-01, -2.74915988e-01,\n",
       "       -2.73628226e-01, -2.73430098e-01, -2.64520159e-01, -2.63657428e-01,\n",
       "       -2.60703168e-01, -2.60701697e-01, -2.59852770e-01, -2.59174337e-01,\n",
       "       -2.52454877e-01, -2.46566327e-01, -2.45891155e-01, -2.43861171e-01,\n",
       "       -2.39268359e-01, -2.30038636e-01, -2.28208015e-01, -2.25377471e-01,\n",
       "       -2.20815090e-01, -2.19388758e-01, -2.18670355e-01, -2.17724121e-01,\n",
       "       -2.13086952e-01, -2.10296643e-01, -2.08824474e-01, -2.07036453e-01,\n",
       "       -2.05728631e-01, -1.96345773e-01, -1.95608738e-01, -1.93663263e-01,\n",
       "       -1.81600133e-01, -1.78393496e-01, -1.73058668e-01, -1.69505052e-01,\n",
       "       -1.68103409e-01, -1.65825290e-01, -1.65280991e-01, -1.65066225e-01,\n",
       "       -1.64958253e-01, -1.58069103e-01, -1.54994538e-01, -1.49870663e-01,\n",
       "       -1.46804805e-01, -1.46306295e-01, -1.43540227e-01, -1.43088193e-01,\n",
       "       -1.40109605e-01, -1.38247340e-01, -1.35515928e-01, -1.35234192e-01,\n",
       "       -1.34551979e-01, -1.27562713e-01, -1.24790159e-01, -1.22090236e-01,\n",
       "       -1.16794023e-01, -1.10994710e-01, -1.10943936e-01, -1.08470574e-01,\n",
       "       -1.06194543e-01, -1.05725667e-01, -1.05450561e-01, -1.03328911e-01,\n",
       "       -9.87063100e-02, -9.50684965e-02, -9.41277088e-02, -8.84923550e-02,\n",
       "       -8.57257222e-02, -8.36784504e-02, -8.15352209e-02, -8.13747334e-02,\n",
       "       -7.63146904e-02, -7.35399688e-02, -7.33099444e-02, -7.03113912e-02,\n",
       "       -6.57078403e-02, -5.79062122e-02, -5.33446899e-02, -5.01886821e-02,\n",
       "       -4.60355675e-02, -4.53041767e-02, -4.29411307e-02, -4.25645690e-02,\n",
       "       -4.16769243e-02, -3.93911922e-02, -3.63438566e-02, -3.47181677e-02,\n",
       "       -3.22200495e-02, -2.82461271e-02, -2.72383610e-02, -2.54099758e-02,\n",
       "       -2.50670146e-02, -2.35824233e-02, -1.95870344e-02, -1.88313396e-02,\n",
       "       -1.73662923e-02, -1.70741216e-02, -1.54378857e-02, -5.50673251e-03,\n",
       "       -4.24917151e-03, -2.87500733e-03,  2.65876320e-04,  2.11758152e-03,\n",
       "        6.96419460e-03,  1.53669330e-02,  1.54167198e-02,  1.73362040e-02,\n",
       "        2.26366055e-02,  2.78592196e-02,  3.29819202e-02,  3.87589279e-02,\n",
       "        3.90785878e-02,  3.93449189e-02,  4.41378394e-02,  5.36937540e-02,\n",
       "        5.45734132e-02,  5.59825923e-02,  5.68184236e-02,  5.96203615e-02,\n",
       "        6.28174716e-02,  6.66456174e-02,  6.81712709e-02,  6.88947937e-02,\n",
       "        7.43528141e-02,  7.77089481e-02,  7.95282155e-02,  8.04973333e-02,\n",
       "        8.27682787e-02,  8.42437222e-02,  8.44356684e-02,  8.49549206e-02,\n",
       "        8.51844958e-02,  8.62509492e-02,  8.65259606e-02,  8.66907546e-02,\n",
       "        8.69008402e-02,  9.29397783e-02,  9.42585432e-02,  9.80284498e-02,\n",
       "        9.87747082e-02,  9.88220132e-02,  1.00284900e-01,  1.00802786e-01,\n",
       "        1.04493593e-01,  1.06151285e-01,  1.08594434e-01,  1.12884270e-01,\n",
       "        1.14573253e-01,  1.18822421e-01,  1.19199134e-01,  1.24496035e-01,\n",
       "        1.26376764e-01,  1.26470360e-01,  1.28001834e-01,  1.34497596e-01,\n",
       "        1.35464148e-01,  1.36875260e-01,  1.39375363e-01,  1.40873651e-01,\n",
       "        1.42548823e-01,  1.52273098e-01,  1.53232672e-01,  1.55881394e-01,\n",
       "        1.60172449e-01,  1.61738322e-01,  1.61881668e-01,  1.62309014e-01,\n",
       "        1.62917160e-01,  1.65469822e-01,  1.69495994e-01,  1.74551371e-01,\n",
       "        1.74728171e-01,  1.76297137e-01,  1.77981587e-01,  1.81452722e-01,\n",
       "        1.82857432e-01,  1.83578522e-01,  1.84774515e-01,  1.89497135e-01,\n",
       "        1.89590822e-01,  1.95996126e-01,  1.97044050e-01,  2.07081798e-01,\n",
       "        2.09740620e-01,  2.10049527e-01,  2.11167586e-01,  2.12738820e-01,\n",
       "        2.18171269e-01,  2.22699124e-01,  2.25877968e-01,  2.31451229e-01,\n",
       "        2.32585998e-01,  2.32939453e-01,  2.34836841e-01,  2.35873557e-01,\n",
       "        2.40582302e-01,  2.41494485e-01,  2.45477953e-01,  2.46578241e-01,\n",
       "        2.47094471e-01,  2.51959246e-01,  2.52411308e-01,  2.58221899e-01,\n",
       "        2.59556242e-01,  2.63336005e-01,  2.69883463e-01,  2.70982918e-01,\n",
       "        2.75652297e-01,  2.77890097e-01,  2.80653830e-01,  2.83766490e-01,\n",
       "        2.84451438e-01,  2.86514043e-01,  2.88036315e-01,  2.90474864e-01,\n",
       "        2.90968170e-01,  2.96410289e-01,  2.99136502e-01,  3.00097764e-01,\n",
       "        3.01122917e-01,  3.01522940e-01,  3.08105809e-01,  3.14123536e-01,\n",
       "        3.14163975e-01,  3.15786401e-01,  3.29098888e-01,  3.29579319e-01,\n",
       "        3.30115023e-01,  3.31178342e-01,  3.36085412e-01,  3.38587897e-01,\n",
       "        3.42870363e-01,  3.44451216e-01,  3.47017344e-01,  3.51798992e-01,\n",
       "        3.55428596e-01,  3.56817037e-01,  3.61203775e-01,  3.61709719e-01,\n",
       "        3.62106328e-01,  3.62518660e-01,  3.71413536e-01,  3.72136844e-01,\n",
       "        3.74393563e-01,  3.74565391e-01,  3.79018052e-01,  3.81059723e-01,\n",
       "        3.81776425e-01,  3.82426901e-01,  3.89575588e-01,  3.96609316e-01,\n",
       "        3.96904994e-01,  3.97230078e-01,  3.97312991e-01,  3.99704338e-01,\n",
       "        4.01050641e-01,  4.02010717e-01,  4.02430149e-01,  4.03439272e-01,\n",
       "        4.21751708e-01,  4.23273797e-01,  4.25965566e-01,  4.31230743e-01,\n",
       "        4.31540047e-01,  4.34276250e-01,  4.36208745e-01,  4.37768748e-01,\n",
       "        4.45632039e-01,  4.47277580e-01,  4.49914193e-01,  4.54105509e-01,\n",
       "        4.55885061e-01,  4.56006613e-01,  4.58127924e-01,  4.62403717e-01,\n",
       "        4.62923876e-01,  4.71493500e-01,  4.71892477e-01,  4.74194317e-01,\n",
       "        4.80503863e-01,  4.84033176e-01,  4.87423191e-01,  4.88144220e-01,\n",
       "        4.89055352e-01,  4.97608417e-01,  4.97659869e-01,  5.01663618e-01,\n",
       "        5.02475716e-01,  5.02967409e-01,  5.04450407e-01,  5.06015996e-01,\n",
       "        5.07520039e-01,  5.10354514e-01,  5.11616582e-01,  5.14541979e-01,\n",
       "        5.15414976e-01,  5.20025971e-01,  5.22773847e-01,  5.23113895e-01,\n",
       "        5.25413363e-01,  5.29092182e-01,  5.40022897e-01,  5.41019497e-01,\n",
       "        5.42274772e-01,  5.45313633e-01,  5.46217701e-01,  5.50639762e-01,\n",
       "        5.50741727e-01,  5.56709746e-01,  5.64687700e-01,  5.71169738e-01,\n",
       "        5.75327364e-01,  5.80927593e-01,  5.91063740e-01,  5.92886742e-01,\n",
       "        5.93642885e-01,  5.95860571e-01,  5.99002890e-01,  6.00144089e-01,\n",
       "        6.10585862e-01,  6.11579655e-01,  6.11755269e-01,  6.13718222e-01,\n",
       "        6.14988281e-01,  6.15408456e-01,  6.16135122e-01,  6.21619097e-01,\n",
       "        6.21829904e-01,  6.23832596e-01,  6.34501814e-01,  6.35506333e-01,\n",
       "        6.38710953e-01,  6.39861474e-01,  6.46638707e-01,  6.47613630e-01,\n",
       "        6.50514848e-01,  6.53260624e-01,  6.54004164e-01,  6.55325567e-01,\n",
       "        6.57408841e-01,  6.59575875e-01,  6.64562520e-01,  6.65924310e-01,\n",
       "        6.68405300e-01,  6.70997893e-01,  6.73195623e-01,  6.78313474e-01,\n",
       "        6.80291393e-01,  6.81727260e-01,  6.87052374e-01,  6.89964710e-01,\n",
       "        6.93483320e-01,  6.94570519e-01,  7.02064665e-01,  7.04910763e-01,\n",
       "        7.10076154e-01,  7.10857938e-01,  7.12960823e-01,  7.19095119e-01,\n",
       "        7.19703238e-01,  7.21984409e-01,  7.24065966e-01,  7.29914430e-01,\n",
       "        7.31950048e-01,  7.33777342e-01,  7.37011288e-01,  7.41956844e-01,\n",
       "        7.45194817e-01,  7.45408299e-01,  7.49461818e-01,  7.51493324e-01,\n",
       "        7.54859053e-01,  7.55120083e-01,  7.55830395e-01,  7.68268673e-01,\n",
       "        7.69875426e-01,  7.91950244e-01,  7.96662147e-01,  8.04062163e-01,\n",
       "        8.05979290e-01,  8.06597299e-01,  8.07915650e-01,  8.09441951e-01,\n",
       "        8.14963655e-01,  8.16415948e-01,  8.17804609e-01,  8.19616566e-01,\n",
       "        8.31532710e-01,  8.44631106e-01,  8.44713545e-01,  8.46995431e-01,\n",
       "        8.50004479e-01,  8.52016171e-01,  8.54407449e-01,  8.54722256e-01,\n",
       "        8.61530594e-01,  8.62661195e-01,  8.63744425e-01,  8.68235383e-01,\n",
       "        8.74934854e-01,  8.76060649e-01,  8.78356398e-01,  8.91674195e-01,\n",
       "        8.94045836e-01,  8.94499093e-01,  8.94629915e-01,  8.96902669e-01,\n",
       "        9.01572817e-01,  9.02589589e-01,  9.02827405e-01,  9.03340155e-01,\n",
       "        9.14153325e-01,  9.20749808e-01,  9.22253619e-01,  9.25161765e-01,\n",
       "        9.25426619e-01,  9.30749796e-01,  9.30890267e-01,  9.31639819e-01,\n",
       "        9.33526196e-01,  9.38021251e-01,  9.41321310e-01,  9.50875205e-01,\n",
       "        9.56601234e-01,  9.57189557e-01,  9.64349851e-01,  9.65536048e-01,\n",
       "        9.66223109e-01,  9.70339001e-01,  9.73459897e-01,  9.78156255e-01,\n",
       "        9.85328955e-01,  9.96286670e-01,  9.96576518e-01,  9.97672417e-01,\n",
       "        1.00053339e+00,  1.00722130e+00,  1.00785215e+00,  1.01623450e+00,\n",
       "        1.02415284e+00,  1.03347581e+00,  1.03725743e+00,  1.04071875e+00,\n",
       "        1.04080253e+00,  1.04116600e+00,  1.04170101e+00,  1.05315676e+00,\n",
       "        1.05656298e+00,  1.08091184e+00,  1.08151193e+00,  1.08226442e+00,\n",
       "        1.08462242e+00,  1.09264603e+00,  1.09755551e+00,  1.10189157e+00,\n",
       "        1.10557416e+00,  1.11302867e+00,  1.12021924e+00,  1.12233877e+00,\n",
       "        1.12503332e+00,  1.13732533e+00,  1.13849798e+00,  1.14544353e+00,\n",
       "        1.15082958e+00,  1.17093015e+00,  1.17626307e+00,  1.17769874e+00,\n",
       "        1.18163310e+00,  1.19090992e+00,  1.19156697e+00,  1.20032231e+00,\n",
       "        1.20611297e+00,  1.21553009e+00,  1.21838235e+00,  1.22077133e+00,\n",
       "        1.22428911e+00,  1.23498323e+00,  1.23524565e+00,  1.23747497e+00,\n",
       "        1.24192402e+00,  1.25366157e+00,  1.25728014e+00,  1.27001346e+00,\n",
       "        1.27352362e+00,  1.27381689e+00,  1.27571205e+00,  1.27717095e+00,\n",
       "        1.27737180e+00,  1.27993281e+00,  1.28612869e+00,  1.28700602e+00,\n",
       "        1.28831135e+00,  1.29394809e+00,  1.29966018e+00,  1.30307189e+00,\n",
       "        1.30718610e+00,  1.32460136e+00,  1.35022859e+00,  1.35088538e+00,\n",
       "        1.35570526e+00,  1.36517510e+00,  1.36570367e+00,  1.37202869e+00,\n",
       "        1.37580671e+00,  1.37972501e+00,  1.38138428e+00,  1.38265383e+00,\n",
       "        1.38722879e+00,  1.39825380e+00,  1.42054236e+00,  1.42107527e+00,\n",
       "        1.42142981e+00,  1.43179624e+00,  1.43715839e+00,  1.43741352e+00,\n",
       "        1.44922101e+00,  1.45612485e+00,  1.48076680e+00,  1.48230740e+00,\n",
       "        1.48851804e+00,  1.49844410e+00,  1.49883671e+00,  1.50224033e+00,\n",
       "        1.50761482e+00,  1.50884436e+00,  1.50919050e+00,  1.51656768e+00,\n",
       "        1.51977032e+00,  1.52552233e+00,  1.53410305e+00,  1.53607713e+00,\n",
       "        1.55256213e+00,  1.57072599e+00,  1.58531661e+00,  1.59070683e+00,\n",
       "        1.62494448e+00,  1.63118283e+00,  1.64178912e+00,  1.64316693e+00,\n",
       "        1.64466180e+00,  1.65592890e+00,  1.67402572e+00,  1.67407901e+00,\n",
       "        1.68266277e+00,  1.68561038e+00,  1.70312172e+00,  1.70866852e+00,\n",
       "        1.70929709e+00,  1.72492172e+00,  1.72927564e+00,  1.72947173e+00,\n",
       "        1.73223382e+00,  1.73818169e+00,  1.76592531e+00,  1.79110353e+00,\n",
       "        1.79983562e+00,  1.80401309e+00,  1.81721365e+00,  1.82258119e+00,\n",
       "        1.87933867e+00,  1.88031590e+00,  1.88349996e+00,  1.88665015e+00,\n",
       "        1.89358937e+00,  1.91992333e+00,  1.92302507e+00,  1.92572712e+00,\n",
       "        1.92602976e+00,  1.93680361e+00,  1.93962993e+00,  1.94018758e+00,\n",
       "        1.94442286e+00,  1.95873743e+00,  1.96719473e+00,  1.96972119e+00,\n",
       "        1.98079346e+00,  1.98705838e+00,  2.00809037e+00,  2.01159234e+00,\n",
       "        2.01530163e+00,  2.05259938e+00,  2.05702193e+00,  2.05998654e+00,\n",
       "        2.07292233e+00,  2.08586868e+00,  2.09392409e+00,  2.11973921e+00,\n",
       "        2.15671608e+00,  2.18811857e+00,  2.19299621e+00,  2.23355137e+00,\n",
       "        2.24930826e+00,  2.28920991e+00,  2.30347023e+00,  2.38643067e+00,\n",
       "        2.42363134e+00,  2.51018037e+00,  2.53498471e+00,  2.53957320e+00,\n",
       "        2.54201340e+00,  2.70842395e+00,  2.76010869e+00,  2.86986694e+00,\n",
       "        2.92999144e+00,  3.12082913e+00,  3.55280903e+00,  3.96233212e+00])"
      ]
     },
     "execution_count": 44,
     "metadata": {},
     "output_type": "execute_result"
    }
   ],
   "source": [
    "large_arr.sort()\n",
    "large_arr"
   ]
  },
  {
   "cell_type": "code",
   "execution_count": 46,
   "metadata": {},
   "outputs": [
    {
     "data": {
      "text/plain": [
       "-1.7451576181260415"
      ]
     },
     "execution_count": 46,
     "metadata": {},
     "output_type": "execute_result"
    }
   ],
   "source": [
    "large_arr[int(0.05*len(large_arr))] # 5% quantitle "
   ]
  },
  {
   "cell_type": "code",
   "execution_count": null,
   "metadata": {},
   "outputs": [],
   "source": []
  },
  {
   "cell_type": "markdown",
   "metadata": {},
   "source": [
    "### Unique and Other Set Logic "
   ]
  },
  {
   "cell_type": "code",
   "execution_count": 47,
   "metadata": {},
   "outputs": [
    {
     "data": {
      "text/plain": [
       "array(['Bob', 'Joe', 'Will', 'Bob', 'Will', 'Joe', 'Joe'], dtype='<U4')"
      ]
     },
     "execution_count": 47,
     "metadata": {},
     "output_type": "execute_result"
    }
   ],
   "source": [
    "names = np.array(['Bob', 'Joe', 'Will', 'Bob', 'Will', 'Joe', 'Joe'])\n",
    "\n",
    "names "
   ]
  },
  {
   "cell_type": "code",
   "execution_count": 48,
   "metadata": {},
   "outputs": [
    {
     "data": {
      "text/plain": [
       "array(['Bob', 'Joe', 'Will'], dtype='<U4')"
      ]
     },
     "execution_count": 48,
     "metadata": {},
     "output_type": "execute_result"
    }
   ],
   "source": [
    "np.unique(names)"
   ]
  },
  {
   "cell_type": "code",
   "execution_count": 49,
   "metadata": {},
   "outputs": [
    {
     "data": {
      "text/plain": [
       "array([1, 2, 3, 4])"
      ]
     },
     "execution_count": 49,
     "metadata": {},
     "output_type": "execute_result"
    }
   ],
   "source": [
    "ints = np.array([3,3,3,2,2,1,1,4,4])\n",
    "\n",
    "np.unique(ints)"
   ]
  },
  {
   "cell_type": "code",
   "execution_count": 50,
   "metadata": {},
   "outputs": [
    {
     "data": {
      "text/plain": [
       "{'Bob', 'Joe', 'Will'}"
      ]
     },
     "execution_count": 50,
     "metadata": {},
     "output_type": "execute_result"
    }
   ],
   "source": [
    "set(names)"
   ]
  },
  {
   "cell_type": "code",
   "execution_count": 51,
   "metadata": {},
   "outputs": [
    {
     "data": {
      "text/plain": [
       "['Bob', 'Joe', 'Will']"
      ]
     },
     "execution_count": 51,
     "metadata": {},
     "output_type": "execute_result"
    }
   ],
   "source": [
    "sorted(set(names))"
   ]
  },
  {
   "cell_type": "code",
   "execution_count": 52,
   "metadata": {},
   "outputs": [
    {
     "data": {
      "text/plain": [
       "array([ True, False, False,  True,  True, False,  True])"
      ]
     },
     "execution_count": 52,
     "metadata": {},
     "output_type": "execute_result"
    }
   ],
   "source": [
    "\"\"\"\n",
    "np.in1d, tests membership of the values in one array\n",
    "in another,returning a boolean array:\n",
    "\"\"\"\n",
    "\n",
    "values = np.array([6,0,0,3,2,5,6])\n",
    "\n",
    "np.in1d(values, [2,3,6])\n"
   ]
  },
  {
   "cell_type": "code",
   "execution_count": null,
   "metadata": {},
   "outputs": [],
   "source": []
  }
 ],
 "metadata": {
  "kernelspec": {
   "display_name": "Python 3",
   "language": "python",
   "name": "python3"
  },
  "language_info": {
   "codemirror_mode": {
    "name": "ipython",
    "version": 3
   },
   "file_extension": ".py",
   "mimetype": "text/x-python",
   "name": "python",
   "nbconvert_exporter": "python",
   "pygments_lexer": "ipython3",
   "version": "3.7.3"
  }
 },
 "nbformat": 4,
 "nbformat_minor": 2
}
